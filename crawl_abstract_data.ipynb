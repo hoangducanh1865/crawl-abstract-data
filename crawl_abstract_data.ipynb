{
 "cells": [
  {
   "cell_type": "code",
   "execution_count": 12,
   "metadata": {},
   "outputs": [],
   "source": [
    "import requests\n",
    "from bs4 import BeautifulSoup"
   ]
  },
  {
   "cell_type": "code",
   "execution_count": 13,
   "metadata": {},
   "outputs": [
    {
     "name": "stderr",
     "output_type": "stream",
     "text": [
      "/Users/hoangducanh/Documents/Hoc o HUST/nhom_anh_minh/crawl-abstract-data/env/lib/python3.13/site-packages/urllib3/connectionpool.py:1097: InsecureRequestWarning: Unverified HTTPS request is being made to host 'vjol.info.vn'. Adding certificate verification is strongly advised. See: https://urllib3.readthedocs.io/en/latest/advanced-usage.html#tls-warnings\n",
      "  warnings.warn(\n"
     ]
    }
   ],
   "source": [
    "url = 'https://vjol.info.vn/index.php/khcn/issue/view/6771'\n",
    "response = requests.get(url, verify=False)"
   ]
  },
  {
   "cell_type": "code",
   "execution_count": 14,
   "metadata": {},
   "outputs": [],
   "source": [
    "content = BeautifulSoup(response.text, 'lxml')"
   ]
  },
  {
   "cell_type": "code",
   "execution_count": null,
   "metadata": {},
   "outputs": [],
   "source": [
    "import re\n",
    "\n",
    "all_urls = content.find_all('a')\n",
    "\n",
    "count = 0\n",
    "for url in all_urls:\n",
    "    try:\n",
    "        if re.match(r'https://vjol.info.vn/index.php/khcn/article/view/\\d+/\\d+$', url['href']):\n",
    "            download_url = url['href'].replace('view', 'download')\n",
    "            pdf_response = requests.get(download_url, verify=False)\n",
    "            print(url['href'])\n",
    "            \n",
    "            count += 1\n",
    "            file_name = \"input\" + str(count) + '.pdf'\n",
    "            \n",
    "            with open('./pdf/' + file_name, 'wb') as f:\n",
    "                f.write(pdf_response.content)\n",
    "    except Exception as e:\n",
    "        print(\"Error: \", e)"
   ]
  }
 ],
 "metadata": {
  "kernelspec": {
   "display_name": "env",
   "language": "python",
   "name": "python3"
  },
  "language_info": {
   "codemirror_mode": {
    "name": "ipython",
    "version": 3
   },
   "file_extension": ".py",
   "mimetype": "text/x-python",
   "name": "python",
   "nbconvert_exporter": "python",
   "pygments_lexer": "ipython3",
   "version": "3.13.2"
  }
 },
 "nbformat": 4,
 "nbformat_minor": 2
}
