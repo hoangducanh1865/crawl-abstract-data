{
 "cells": [
  {
   "cell_type": "code",
   "execution_count": 1,
   "metadata": {},
   "outputs": [
    {
     "name": "stdout",
     "output_type": "stream",
     "text": [
      "❌ Summary not found in the PDF input383.pdf.\n",
      "❌ Summary not found in the PDF input397.pdf.\n",
      "❌ Summary not found in the PDF input368.pdf.\n",
      "✅ PDF input340.pdf Extract summary textsuccessfully!\n",
      "❌ Summary not found in the PDF input426.pdf.\n",
      "❌ Summary not found in the PDF input432.pdf.\n"
     ]
    },
    {
     "name": "stderr",
     "output_type": "stream",
     "text": [
      "incorrect startxref pointer(3)\n"
     ]
    },
    {
     "name": "stdout",
     "output_type": "stream",
     "text": [
      "❌ Summary not found in the PDF input354.pdf.\n",
      "❌ Summary not found in the PDF input181.pdf.\n",
      "✅ PDF input195.pdf Extract summary textsuccessfully!\n",
      "✅ PDF input142.pdf Extract summary textsuccessfully!\n",
      "✅ PDF input156.pdf Extract summary textsuccessfully!\n",
      "❌ Summary not found in the PDF input86.pdf.\n",
      "✅ PDF input92.pdf Extract summary textsuccessfully!\n",
      "✅ PDF input45.pdf Extract summary textsuccessfully!\n",
      "✅ PDF input51.pdf Extract summary textsuccessfully!\n"
     ]
    },
    {
     "name": "stderr",
     "output_type": "stream",
     "text": [
      "incorrect startxref pointer(3)\n"
     ]
    },
    {
     "name": "stdout",
     "output_type": "stream",
     "text": [
      "❌ Summary not found in the PDF input79.pdf.\n"
     ]
    },
    {
     "name": "stderr",
     "output_type": "stream",
     "text": [
      "incorrect startxref pointer(3)\n"
     ]
    },
    {
     "name": "stdout",
     "output_type": "stream",
     "text": [
      "❌ Summary not found in the PDF input208.pdf.\n"
     ]
    },
    {
     "name": "stderr",
     "output_type": "stream",
     "text": [
      "incorrect startxref pointer(3)\n"
     ]
    },
    {
     "name": "stdout",
     "output_type": "stream",
     "text": [
      "❌ Summary not found in the PDF input234.pdf.\n",
      "✅ PDF input220.pdf Extract summary textsuccessfully!\n",
      "✅ PDF input221.pdf Extract summary textsuccessfully!\n"
     ]
    },
    {
     "name": "stderr",
     "output_type": "stream",
     "text": [
      "incorrect startxref pointer(3)\n"
     ]
    },
    {
     "name": "stdout",
     "output_type": "stream",
     "text": [
      "❌ Summary not found in the PDF input235.pdf.\n",
      "❌ Summary not found in the PDF input209.pdf.\n",
      "✅ PDF input78.pdf Extract summary textsuccessfully!\n",
      "❌ Summary not found in the PDF input50.pdf.\n",
      "✅ PDF input44.pdf Extract summary textsuccessfully!\n",
      "✅ PDF input93.pdf Extract summary textsuccessfully!\n",
      "❌ Summary not found in the PDF input87.pdf.\n",
      "✅ PDF input157.pdf Extract summary textsuccessfully!\n",
      "✅ PDF input143.pdf Extract summary textsuccessfully!\n"
     ]
    },
    {
     "name": "stderr",
     "output_type": "stream",
     "text": [
      "incorrect startxref pointer(3)\n"
     ]
    },
    {
     "name": "stdout",
     "output_type": "stream",
     "text": [
      "✅ PDF input194.pdf Extract summary textsuccessfully!\n",
      "❌ Summary not found in the PDF input180.pdf.\n",
      "❌ Summary not found in the PDF input433.pdf.\n",
      "❌ Summary not found in the PDF input355.pdf.\n",
      "✅ PDF input341.pdf Extract summary textsuccessfully!\n",
      "❌ Summary not found in the PDF input427.pdf.\n",
      "❌ Summary not found in the PDF input369.pdf.\n",
      "❌ Summary not found in the PDF input396.pdf.\n",
      "❌ Summary not found in the PDF input382.pdf.\n",
      "❌ Summary not found in the PDF input394.pdf.\n",
      "❌ Summary not found in the PDF input380.pdf.\n",
      "❌ Summary not found in the PDF input419.pdf.\n",
      "❌ Summary not found in the PDF input357.pdf.\n",
      "❌ Summary not found in the PDF input431.pdf.\n"
     ]
    },
    {
     "name": "stderr",
     "output_type": "stream",
     "text": [
      "incorrect startxref pointer(3)\n"
     ]
    },
    {
     "name": "stdout",
     "output_type": "stream",
     "text": [
      "❌ Summary not found in the PDF input425.pdf.\n",
      "✅ PDF input343.pdf Extract summary textsuccessfully!\n",
      "✅ PDF input196.pdf Extract summary textsuccessfully!\n"
     ]
    },
    {
     "name": "stderr",
     "output_type": "stream",
     "text": [
      "incorrect startxref pointer(3)\n"
     ]
    },
    {
     "name": "stdout",
     "output_type": "stream",
     "text": [
      "❌ Summary not found in the PDF input182.pdf.\n",
      "❌ Summary not found in the PDF input169.pdf.\n",
      "✅ PDF input155.pdf Extract summary textsuccessfully!\n",
      "✅ PDF input141.pdf Extract summary textsuccessfully!\n",
      "❌ Summary not found in the PDF input91.pdf.\n",
      "✅ PDF input85.pdf Extract summary textsuccessfully!\n",
      "✅ PDF input52.pdf Extract summary textsuccessfully!\n",
      "✅ PDF input46.pdf Extract summary textsuccessfully!\n"
     ]
    },
    {
     "name": "stderr",
     "output_type": "stream",
     "text": [
      "incorrect startxref pointer(3)\n"
     ]
    },
    {
     "name": "stdout",
     "output_type": "stream",
     "text": [
      "✅ PDF input223.pdf Extract summary textsuccessfully!\n"
     ]
    },
    {
     "name": "stderr",
     "output_type": "stream",
     "text": [
      "incorrect startxref pointer(3)\n"
     ]
    },
    {
     "name": "stdout",
     "output_type": "stream",
     "text": [
      "❌ Summary not found in the PDF input237.pdf.\n",
      "❌ Summary not found in the PDF input236.pdf.\n",
      "✅ PDF input222.pdf Extract summary textsuccessfully!\n",
      "❌ Summary not found in the PDF input47.pdf.\n",
      "✅ PDF input53.pdf Extract summary textsuccessfully!\n",
      "✅ PDF input84.pdf Extract summary textsuccessfully!\n",
      "✅ PDF input90.pdf Extract summary textsuccessfully!\n",
      "❌ Summary not found in the PDF input140.pdf.\n",
      "✅ PDF input154.pdf Extract summary textsuccessfully!\n"
     ]
    },
    {
     "name": "stderr",
     "output_type": "stream",
     "text": [
      "incorrect startxref pointer(3)\n"
     ]
    },
    {
     "name": "stdout",
     "output_type": "stream",
     "text": [
      "✅ PDF input168.pdf Extract summary textsuccessfully!\n",
      "❌ Summary not found in the PDF input183.pdf.\n",
      "❌ Summary not found in the PDF input197.pdf.\n",
      "❌ Summary not found in the PDF input424.pdf.\n",
      "✅ PDF input342.pdf Extract summary textsuccessfully!\n",
      "❌ Summary not found in the PDF input356.pdf.\n",
      "❌ Summary not found in the PDF input430.pdf.\n",
      "❌ Summary not found in the PDF input418.pdf.\n",
      "❌ Summary not found in the PDF input381.pdf.\n",
      "❌ Summary not found in the PDF input395.pdf.\n",
      "❌ Summary not found in the PDF input391.pdf.\n",
      "❌ Summary not found in the PDF input385.pdf.\n",
      "❌ Summary not found in the PDF input434.pdf.\n",
      "❌ Summary not found in the PDF input352.pdf.\n",
      "✅ PDF input346.pdf Extract summary textsuccessfully!\n",
      "❌ Summary not found in the PDF input420.pdf.\n"
     ]
    },
    {
     "name": "stderr",
     "output_type": "stream",
     "text": [
      "incorrect startxref pointer(3)\n"
     ]
    },
    {
     "name": "stdout",
     "output_type": "stream",
     "text": [
      "❌ Summary not found in the PDF input408.pdf.\n"
     ]
    },
    {
     "name": "stderr",
     "output_type": "stream",
     "text": [
      "incorrect startxref pointer(3)\n"
     ]
    },
    {
     "name": "stdout",
     "output_type": "stream",
     "text": [
      "❌ Summary not found in the PDF input193.pdf.\n",
      "❌ Summary not found in the PDF input187.pdf.\n",
      "✅ PDF input150.pdf Extract summary textsuccessfully!\n",
      "✅ PDF input144.pdf Extract summary textsuccessfully!\n",
      "✅ PDF input178.pdf Extract summary textsuccessfully!\n",
      "✅ PDF input94.pdf Extract summary textsuccessfully!\n",
      "✅ PDF input80.pdf Extract summary textsuccessfully!\n",
      "❌ Summary not found in the PDF input57.pdf.\n",
      "❌ Summary not found in the PDF input43.pdf.\n",
      "✅ PDF input226.pdf Extract summary textsuccessfully!\n",
      "✅ PDF input232.pdf Extract summary textsuccessfully!\n",
      "✅ PDF input233.pdf Extract summary textsuccessfully!\n",
      "✅ PDF input227.pdf Extract summary textsuccessfully!\n",
      "✅ PDF input42.pdf Extract summary textsuccessfully!\n",
      "✅ PDF input56.pdf Extract summary textsuccessfully!\n",
      "❌ Summary not found in the PDF input81.pdf.\n",
      "✅ PDF input95.pdf Extract summary textsuccessfully!\n"
     ]
    },
    {
     "name": "stderr",
     "output_type": "stream",
     "text": [
      "incorrect startxref pointer(3)\n"
     ]
    },
    {
     "name": "stdout",
     "output_type": "stream",
     "text": [
      "✅ PDF input179.pdf Extract summary textsuccessfully!\n",
      "✅ PDF input145.pdf Extract summary textsuccessfully!\n",
      "✅ PDF input151.pdf Extract summary textsuccessfully!\n"
     ]
    },
    {
     "name": "stderr",
     "output_type": "stream",
     "text": [
      "incorrect startxref pointer(3)\n"
     ]
    },
    {
     "name": "stdout",
     "output_type": "stream",
     "text": [
      "❌ Summary not found in the PDF input186.pdf.\n",
      "❌ Summary not found in the PDF input192.pdf.\n",
      "❌ Summary not found in the PDF input409.pdf.\n",
      "✅ PDF input347.pdf Extract summary textsuccessfully!\n",
      "❌ Summary not found in the PDF input421.pdf.\n",
      "❌ Summary not found in the PDF input435.pdf.\n",
      "❌ Summary not found in the PDF input353.pdf.\n",
      "❌ Summary not found in the PDF input384.pdf.\n",
      "❌ Summary not found in the PDF input390.pdf.\n",
      "❌ Summary not found in the PDF input386.pdf.\n",
      "❌ Summary not found in the PDF input392.pdf.\n",
      "❌ Summary not found in the PDF input423.pdf.\n",
      "✅ PDF input345.pdf Extract summary textsuccessfully!\n",
      "❌ Summary not found in the PDF input351.pdf.\n",
      "❌ Summary not found in the PDF input437.pdf.\n"
     ]
    },
    {
     "name": "stderr",
     "output_type": "stream",
     "text": [
      "incorrect startxref pointer(3)\n"
     ]
    },
    {
     "name": "stdout",
     "output_type": "stream",
     "text": [
      "❌ Summary not found in the PDF input379.pdf.\n"
     ]
    },
    {
     "name": "stderr",
     "output_type": "stream",
     "text": [
      "incorrect startxref pointer(3)\n"
     ]
    },
    {
     "name": "stdout",
     "output_type": "stream",
     "text": [
      "❌ Summary not found in the PDF input184.pdf.\n",
      "❌ Summary not found in the PDF input190.pdf.\n",
      "✅ PDF input147.pdf Extract summary textsuccessfully!\n",
      "❌ Summary not found in the PDF input153.pdf.\n",
      "❌ Summary not found in the PDF input83.pdf.\n",
      "✅ PDF input97.pdf Extract summary textsuccessfully!\n",
      "✅ PDF input68.pdf Extract summary textsuccessfully!\n",
      "✅ PDF input40.pdf Extract summary textsuccessfully!\n",
      "✅ PDF input54.pdf Extract summary textsuccessfully!\n",
      "✅ PDF input231.pdf Extract summary textsuccessfully!\n",
      "✅ PDF input225.pdf Extract summary textsuccessfully!\n",
      "✅ PDF input219.pdf Extract summary textsuccessfully!\n",
      "✅ PDF input218.pdf Extract summary textsuccessfully!\n",
      "✅ PDF input224.pdf Extract summary textsuccessfully!\n",
      "✅ PDF input230.pdf Extract summary textsuccessfully!\n",
      "❌ Summary not found in the PDF input55.pdf.\n",
      "✅ PDF input41.pdf Extract summary textsuccessfully!\n",
      "❌ Summary not found in the PDF input69.pdf.\n",
      "✅ PDF input96.pdf Extract summary textsuccessfully!\n",
      "✅ PDF input82.pdf Extract summary textsuccessfully!\n",
      "✅ PDF input152.pdf Extract summary textsuccessfully!\n",
      "✅ PDF input146.pdf Extract summary textsuccessfully!\n"
     ]
    },
    {
     "name": "stderr",
     "output_type": "stream",
     "text": [
      "incorrect startxref pointer(3)\n",
      "incorrect startxref pointer(3)\n"
     ]
    },
    {
     "name": "stdout",
     "output_type": "stream",
     "text": [
      "❌ Summary not found in the PDF input191.pdf.\n",
      "❌ Summary not found in the PDF input185.pdf.\n",
      "❌ Summary not found in the PDF input378.pdf.\n",
      "❌ Summary not found in the PDF input350.pdf.\n",
      "❌ Summary not found in the PDF input436.pdf.\n",
      "❌ Summary not found in the PDF input422.pdf.\n",
      "✅ PDF input344.pdf Extract summary textsuccessfully!\n",
      "❌ Summary not found in the PDF input393.pdf.\n",
      "❌ Summary not found in the PDF input387.pdf.\n",
      "❌ Summary not found in the PDF input445.pdf.\n",
      "❌ Summary not found in the PDF input323.pdf.\n",
      "❌ Summary not found in the PDF input337.pdf.\n",
      "❌ Summary not found in the PDF input451.pdf.\n",
      "✅ PDF input2.pdf Extract summary textsuccessfully!\n",
      "❌ Summary not found in the PDF input109.pdf.\n",
      "✅ PDF input121.pdf Extract summary textsuccessfully!\n",
      "✅ PDF input135.pdf Extract summary textsuccessfully!\n",
      "✅ PDF input26.pdf Extract summary textsuccessfully!\n",
      "✅ PDF input32.pdf Extract summary textsuccessfully!\n",
      "✅ PDF input294.pdf Extract summary textsuccessfully!\n"
     ]
    },
    {
     "name": "stderr",
     "output_type": "stream",
     "text": [
      "incorrect startxref pointer(3)\n"
     ]
    },
    {
     "name": "stdout",
     "output_type": "stream",
     "text": [
      "❌ Summary not found in the PDF input280.pdf.\n",
      "✅ PDF input257.pdf Extract summary textsuccessfully!\n"
     ]
    },
    {
     "name": "stderr",
     "output_type": "stream",
     "text": [
      "incorrect startxref pointer(3)\n"
     ]
    },
    {
     "name": "stdout",
     "output_type": "stream",
     "text": [
      "❌ Summary not found in the PDF input243.pdf.\n",
      "❌ Summary not found in the PDF input242.pdf.\n",
      "✅ PDF input256.pdf Extract summary textsuccessfully!\n",
      "❌ Summary not found in the PDF input281.pdf.\n",
      "✅ PDF input295.pdf Extract summary textsuccessfully!\n",
      "❌ Summary not found in the PDF input33.pdf.\n",
      "❌ Summary not found in the PDF input27.pdf.\n",
      "✅ PDF input134.pdf Extract summary textsuccessfully!\n",
      "✅ PDF input120.pdf Extract summary textsuccessfully!\n",
      "❌ Summary not found in the PDF input108.pdf.\n",
      "❌ Summary not found in the PDF input3.pdf.\n",
      "✅ PDF input336.pdf Extract summary textsuccessfully!\n",
      "❌ Summary not found in the PDF input450.pdf.\n",
      "❌ Summary not found in the PDF input444.pdf.\n",
      "❌ Summary not found in the PDF input322.pdf.\n",
      "✅ PDF input308.pdf Extract summary textsuccessfully!\n",
      "✅ PDF input334.pdf Extract summary textsuccessfully!\n",
      "❌ Summary not found in the PDF input320.pdf.\n",
      "❌ Summary not found in the PDF input446.pdf.\n",
      "✅ PDF input1.pdf Extract summary textsuccessfully!\n",
      "✅ PDF input136.pdf Extract summary textsuccessfully!\n",
      "✅ PDF input122.pdf Extract summary textsuccessfully!\n",
      "✅ PDF input31.pdf Extract summary textsuccessfully!\n",
      "❌ Summary not found in the PDF input25.pdf.\n",
      "✅ PDF input19.pdf Extract summary textsuccessfully!\n",
      "✅ PDF input283.pdf Extract summary textsuccessfully!\n",
      "✅ PDF input297.pdf Extract summary textsuccessfully!\n"
     ]
    },
    {
     "name": "stderr",
     "output_type": "stream",
     "text": [
      "incorrect startxref pointer(3)\n"
     ]
    },
    {
     "name": "stdout",
     "output_type": "stream",
     "text": [
      "❌ Summary not found in the PDF input268.pdf.\n",
      "❌ Summary not found in the PDF input240.pdf.\n",
      "✅ PDF input254.pdf Extract summary textsuccessfully!\n",
      "✅ PDF input255.pdf Extract summary textsuccessfully!\n"
     ]
    },
    {
     "name": "stderr",
     "output_type": "stream",
     "text": [
      "incorrect startxref pointer(3)\n"
     ]
    },
    {
     "name": "stdout",
     "output_type": "stream",
     "text": [
      "❌ Summary not found in the PDF input241.pdf.\n",
      "❌ Summary not found in the PDF input269.pdf.\n",
      "✅ PDF input296.pdf Extract summary textsuccessfully!\n",
      "❌ Summary not found in the PDF input282.pdf.\n",
      "❌ Summary not found in the PDF input18.pdf.\n",
      "✅ PDF input24.pdf Extract summary textsuccessfully!\n",
      "❌ Summary not found in the PDF input30.pdf.\n",
      "✅ PDF input123.pdf Extract summary textsuccessfully!\n",
      "✅ PDF input137.pdf Extract summary textsuccessfully!\n",
      "❌ Summary not found in the PDF input321.pdf.\n",
      "❌ Summary not found in the PDF input447.pdf.\n",
      "✅ PDF input335.pdf Extract summary textsuccessfully!\n",
      "✅ PDF input309.pdf Extract summary textsuccessfully!\n",
      "✅ PDF input331.pdf Extract summary textsuccessfully!\n",
      "❌ Summary not found in the PDF input443.pdf.\n",
      "❌ Summary not found in the PDF input325.pdf.\n",
      "❌ Summary not found in the PDF input319.pdf.\n",
      "✅ PDF input133.pdf Extract summary textsuccessfully!\n",
      "✅ PDF input127.pdf Extract summary textsuccessfully!\n",
      "✅ PDF input4.pdf Extract summary textsuccessfully!\n",
      "✅ PDF input34.pdf Extract summary textsuccessfully!\n",
      "✅ PDF input20.pdf Extract summary textsuccessfully!\n",
      "✅ PDF input286.pdf Extract summary textsuccessfully!\n"
     ]
    },
    {
     "name": "stderr",
     "output_type": "stream",
     "text": [
      "incorrect startxref pointer(3)\n"
     ]
    },
    {
     "name": "stdout",
     "output_type": "stream",
     "text": [
      "✅ PDF input292.pdf Extract summary textsuccessfully!\n"
     ]
    },
    {
     "name": "stderr",
     "output_type": "stream",
     "text": [
      "incorrect startxref pointer(3)\n"
     ]
    },
    {
     "name": "stdout",
     "output_type": "stream",
     "text": [
      "❌ Summary not found in the PDF input245.pdf.\n",
      "❌ Summary not found in the PDF input251.pdf.\n",
      "❌ Summary not found in the PDF input279.pdf.\n"
     ]
    },
    {
     "name": "stderr",
     "output_type": "stream",
     "text": [
      "incorrect startxref pointer(3)\n"
     ]
    },
    {
     "name": "stdout",
     "output_type": "stream",
     "text": [
      "❌ Summary not found in the PDF input278.pdf.\n"
     ]
    },
    {
     "name": "stderr",
     "output_type": "stream",
     "text": [
      "incorrect startxref pointer(3)\n"
     ]
    },
    {
     "name": "stdout",
     "output_type": "stream",
     "text": [
      "❌ Summary not found in the PDF input250.pdf.\n",
      "❌ Summary not found in the PDF input244.pdf.\n",
      "✅ PDF input293.pdf Extract summary textsuccessfully!\n",
      "✅ PDF input287.pdf Extract summary textsuccessfully!\n",
      "❌ Summary not found in the PDF input21.pdf.\n",
      "❌ Summary not found in the PDF input35.pdf.\n",
      "✅ PDF input5.pdf Extract summary textsuccessfully!\n",
      "✅ PDF input126.pdf Extract summary textsuccessfully!\n",
      "✅ PDF input132.pdf Extract summary textsuccessfully!\n",
      "❌ Summary not found in the PDF input318.pdf.\n",
      "❌ Summary not found in the PDF input442.pdf.\n",
      "❌ Summary not found in the PDF input324.pdf.\n",
      "❌ Summary not found in the PDF input330.pdf.\n",
      "❌ Summary not found in the PDF input326.pdf.\n",
      "❌ Summary not found in the PDF input440.pdf.\n",
      "✅ PDF input332.pdf Extract summary textsuccessfully!\n",
      "✅ PDF input124.pdf Extract summary textsuccessfully!\n",
      "✅ PDF input130.pdf Extract summary textsuccessfully!\n",
      "✅ PDF input118.pdf Extract summary textsuccessfully!\n",
      "✅ PDF input7.pdf Extract summary textsuccessfully!\n",
      "✅ PDF input23.pdf Extract summary textsuccessfully!\n",
      "✅ PDF input37.pdf Extract summary textsuccessfully!\n",
      "✅ PDF input291.pdf Extract summary textsuccessfully!\n",
      "✅ PDF input285.pdf Extract summary textsuccessfully!\n"
     ]
    },
    {
     "name": "stderr",
     "output_type": "stream",
     "text": [
      "incorrect startxref pointer(3)\n"
     ]
    },
    {
     "name": "stdout",
     "output_type": "stream",
     "text": [
      "✅ PDF input252.pdf Extract summary textsuccessfully!\n"
     ]
    },
    {
     "name": "stderr",
     "output_type": "stream",
     "text": [
      "incorrect startxref pointer(3)\n"
     ]
    },
    {
     "name": "stdout",
     "output_type": "stream",
     "text": [
      "❌ Summary not found in the PDF input246.pdf.\n",
      "❌ Summary not found in the PDF input247.pdf.\n",
      "✅ PDF input253.pdf Extract summary textsuccessfully!\n",
      "❌ Summary not found in the PDF input284.pdf.\n",
      "✅ PDF input290.pdf Extract summary textsuccessfully!\n",
      "✅ PDF input36.pdf Extract summary textsuccessfully!\n",
      "✅ PDF input22.pdf Extract summary textsuccessfully!\n",
      "✅ PDF input6.pdf Extract summary textsuccessfully!\n",
      "✅ PDF input119.pdf Extract summary textsuccessfully!\n",
      "✅ PDF input131.pdf Extract summary textsuccessfully!\n",
      "✅ PDF input125.pdf Extract summary textsuccessfully!\n",
      "✅ PDF input333.pdf Extract summary textsuccessfully!\n",
      "❌ Summary not found in the PDF input327.pdf.\n",
      "❌ Summary not found in the PDF input441.pdf.\n",
      "✅ PDF input302.pdf Extract summary textsuccessfully!\n",
      "❌ Summary not found in the PDF input316.pdf.\n",
      "✅ PDF input128.pdf Extract summary textsuccessfully!\n",
      "❌ Summary not found in the PDF input100.pdf.\n",
      "❌ Summary not found in the PDF input114.pdf.\n",
      "✅ PDF input13.pdf Extract summary textsuccessfully!\n",
      "✅ PDF input289.pdf Extract summary textsuccessfully!\n",
      "❌ Summary not found in the PDF input276.pdf.\n",
      "✅ PDF input262.pdf Extract summary textsuccessfully!\n",
      "✅ PDF input263.pdf Extract summary textsuccessfully!\n",
      "❌ Summary not found in the PDF input277.pdf.\n",
      "✅ PDF input288.pdf Extract summary textsuccessfully!\n",
      "✅ PDF input12.pdf Extract summary textsuccessfully!\n",
      "✅ PDF input115.pdf Extract summary textsuccessfully!\n",
      "✅ PDF input101.pdf Extract summary textsuccessfully!\n",
      "✅ PDF input129.pdf Extract summary textsuccessfully!\n",
      "❌ Summary not found in the PDF input317.pdf.\n",
      "✅ PDF input303.pdf Extract summary textsuccessfully!\n",
      "❌ Summary not found in the PDF input329.pdf.\n",
      "✅ PDF input315.pdf Extract summary textsuccessfully!\n",
      "✅ PDF input301.pdf Extract summary textsuccessfully!\n",
      "✅ PDF input117.pdf Extract summary textsuccessfully!\n",
      "❌ Summary not found in the PDF input8.pdf.\n"
     ]
    },
    {
     "name": "stderr",
     "output_type": "stream",
     "text": [
      "incorrect startxref pointer(3)\n"
     ]
    },
    {
     "name": "stdout",
     "output_type": "stream",
     "text": [
      "✅ PDF input103.pdf Extract summary textsuccessfully!\n",
      "❌ Summary not found in the PDF input10.pdf.\n",
      "❌ Summary not found in the PDF input38.pdf.\n",
      "❌ Summary not found in the PDF input249.pdf.\n",
      "✅ PDF input261.pdf Extract summary textsuccessfully!\n",
      "❌ Summary not found in the PDF input275.pdf.\n"
     ]
    },
    {
     "name": "stderr",
     "output_type": "stream",
     "text": [
      "incorrect startxref pointer(3)\n"
     ]
    },
    {
     "name": "stdout",
     "output_type": "stream",
     "text": [
      "❌ Summary not found in the PDF input274.pdf.\n",
      "✅ PDF input260.pdf Extract summary textsuccessfully!\n",
      "❌ Summary not found in the PDF input248.pdf.\n",
      "❌ Summary not found in the PDF input39.pdf.\n",
      "❌ Summary not found in the PDF input11.pdf.\n",
      "✅ PDF input102.pdf Extract summary textsuccessfully!\n",
      "❌ Summary not found in the PDF input9.pdf.\n",
      "❌ Summary not found in the PDF input116.pdf.\n",
      "✅ PDF input300.pdf Extract summary textsuccessfully!\n",
      "✅ PDF input314.pdf Extract summary textsuccessfully!\n",
      "❌ Summary not found in the PDF input328.pdf.\n",
      "✅ PDF input310.pdf Extract summary textsuccessfully!\n",
      "❌ Summary not found in the PDF input304.pdf.\n",
      "✅ PDF input338.pdf Extract summary textsuccessfully!\n",
      "❌ Summary not found in the PDF input112.pdf.\n",
      "❌ Summary not found in the PDF input106.pdf.\n",
      "✅ PDF input29.pdf Extract summary textsuccessfully!\n",
      "✅ PDF input15.pdf Extract summary textsuccessfully!\n",
      "✅ PDF input264.pdf Extract summary textsuccessfully!\n",
      "❌ Summary not found in the PDF input270.pdf.\n",
      "❌ Summary not found in the PDF input258.pdf.\n",
      "✅ PDF input259.pdf Extract summary textsuccessfully!\n",
      "❌ Summary not found in the PDF input271.pdf.\n",
      "✅ PDF input265.pdf Extract summary textsuccessfully!\n",
      "❌ Summary not found in the PDF input14.pdf.\n",
      "✅ PDF input28.pdf Extract summary textsuccessfully!\n",
      "❌ Summary not found in the PDF input107.pdf.\n",
      "✅ PDF input113.pdf Extract summary textsuccessfully!\n",
      "❌ Summary not found in the PDF input339.pdf.\n",
      "✅ PDF input305.pdf Extract summary textsuccessfully!\n",
      "✅ PDF input311.pdf Extract summary textsuccessfully!\n",
      "✅ PDF input307.pdf Extract summary textsuccessfully!\n",
      "✅ PDF input313.pdf Extract summary textsuccessfully!\n",
      "❌ Summary not found in the PDF input449.pdf.\n",
      "❌ Summary not found in the PDF input105.pdf.\n",
      "✅ PDF input111.pdf Extract summary textsuccessfully!\n",
      "✅ PDF input139.pdf Extract summary textsuccessfully!\n",
      "✅ PDF input16.pdf Extract summary textsuccessfully!\n",
      "✅ PDF input298.pdf Extract summary textsuccessfully!\n",
      "❌ Summary not found in the PDF input273.pdf.\n",
      "✅ PDF input267.pdf Extract summary textsuccessfully!\n",
      "✅ PDF input266.pdf Extract summary textsuccessfully!\n",
      "❌ Summary not found in the PDF input272.pdf.\n",
      "✅ PDF input299.pdf Extract summary textsuccessfully!\n",
      "✅ PDF input17.pdf Extract summary textsuccessfully!\n",
      "✅ PDF input138.pdf Extract summary textsuccessfully!\n",
      "✅ PDF input110.pdf Extract summary textsuccessfully!\n",
      "✅ PDF input104.pdf Extract summary textsuccessfully!\n",
      "❌ Summary not found in the PDF input448.pdf.\n",
      "✅ PDF input312.pdf Extract summary textsuccessfully!\n",
      "✅ PDF input306.pdf Extract summary textsuccessfully!\n",
      "❌ Summary not found in the PDF input349.pdf.\n",
      "❌ Summary not found in the PDF input361.pdf.\n",
      "❌ Summary not found in the PDF input407.pdf.\n",
      "❌ Summary not found in the PDF input413.pdf.\n"
     ]
    },
    {
     "name": "stderr",
     "output_type": "stream",
     "text": [
      "incorrect startxref pointer(3)\n"
     ]
    },
    {
     "name": "stdout",
     "output_type": "stream",
     "text": [
      "❌ Summary not found in the PDF input375.pdf.\n",
      "❌ Summary not found in the PDF input188.pdf.\n",
      "✅ PDF input163.pdf Extract summary textsuccessfully!\n",
      "✅ PDF input177.pdf Extract summary textsuccessfully!\n",
      "❌ Summary not found in the PDF input64.pdf.\n"
     ]
    },
    {
     "name": "stderr",
     "output_type": "stream",
     "text": [
      "incorrect startxref pointer(3)\n"
     ]
    },
    {
     "name": "stdout",
     "output_type": "stream",
     "text": [
      "✅ PDF input70.pdf Extract summary textsuccessfully!\n",
      "✅ PDF input58.pdf Extract summary textsuccessfully!\n",
      "✅ PDF input229.pdf Extract summary textsuccessfully!\n"
     ]
    },
    {
     "name": "stderr",
     "output_type": "stream",
     "text": [
      "incorrect startxref pointer(3)\n"
     ]
    },
    {
     "name": "stdout",
     "output_type": "stream",
     "text": [
      "❌ Summary not found in the PDF input215.pdf.\n",
      "❌ Summary not found in the PDF input201.pdf.\n",
      "✅ PDF input200.pdf Extract summary textsuccessfully!\n",
      "❌ Summary not found in the PDF input214.pdf.\n",
      "✅ PDF input228.pdf Extract summary textsuccessfully!\n",
      "✅ PDF input59.pdf Extract summary textsuccessfully!\n",
      "✅ PDF input71.pdf Extract summary textsuccessfully!\n",
      "✅ PDF input65.pdf Extract summary textsuccessfully!\n",
      "❌ Summary not found in the PDF input176.pdf.\n",
      "✅ PDF input162.pdf Extract summary textsuccessfully!\n"
     ]
    },
    {
     "name": "stderr",
     "output_type": "stream",
     "text": [
      "incorrect startxref pointer(3)\n"
     ]
    },
    {
     "name": "stdout",
     "output_type": "stream",
     "text": [
      "❌ Summary not found in the PDF input189.pdf.\n",
      "❌ Summary not found in the PDF input412.pdf.\n",
      "❌ Summary not found in the PDF input374.pdf.\n",
      "❌ Summary not found in the PDF input360.pdf.\n",
      "❌ Summary not found in the PDF input406.pdf.\n",
      "✅ PDF input348.pdf Extract summary textsuccessfully!\n",
      "❌ Summary not found in the PDF input389.pdf.\n",
      "❌ Summary not found in the PDF input438.pdf.\n",
      "❌ Summary not found in the PDF input376.pdf.\n",
      "❌ Summary not found in the PDF input410.pdf.\n",
      "❌ Summary not found in the PDF input404.pdf.\n"
     ]
    },
    {
     "name": "stderr",
     "output_type": "stream",
     "text": [
      "incorrect startxref pointer(3)\n"
     ]
    },
    {
     "name": "stdout",
     "output_type": "stream",
     "text": [
      "❌ Summary not found in the PDF input362.pdf.\n",
      "✅ PDF input148.pdf Extract summary textsuccessfully!\n",
      "❌ Summary not found in the PDF input174.pdf.\n",
      "✅ PDF input160.pdf Extract summary textsuccessfully!\n",
      "❌ Summary not found in the PDF input98.pdf.\n",
      "✅ PDF input73.pdf Extract summary textsuccessfully!\n",
      "❌ Summary not found in the PDF input67.pdf.\n",
      "❌ Summary not found in the PDF input202.pdf.\n",
      "✅ PDF input216.pdf Extract summary textsuccessfully!\n",
      "✅ PDF input217.pdf Extract summary textsuccessfully!\n",
      "✅ PDF input203.pdf Extract summary textsuccessfully!\n",
      "✅ PDF input66.pdf Extract summary textsuccessfully!\n"
     ]
    },
    {
     "name": "stderr",
     "output_type": "stream",
     "text": [
      "incorrect startxref pointer(3)\n"
     ]
    },
    {
     "name": "stdout",
     "output_type": "stream",
     "text": [
      "✅ PDF input72.pdf Extract summary textsuccessfully!\n",
      "❌ Summary not found in the PDF input99.pdf.\n",
      "✅ PDF input161.pdf Extract summary textsuccessfully!\n",
      "❌ Summary not found in the PDF input175.pdf.\n",
      "✅ PDF input149.pdf Extract summary textsuccessfully!\n",
      "❌ Summary not found in the PDF input405.pdf.\n",
      "❌ Summary not found in the PDF input363.pdf.\n",
      "❌ Summary not found in the PDF input377.pdf.\n",
      "❌ Summary not found in the PDF input411.pdf.\n",
      "❌ Summary not found in the PDF input439.pdf.\n",
      "❌ Summary not found in the PDF input388.pdf.\n",
      "❌ Summary not found in the PDF input398.pdf.\n",
      "❌ Summary not found in the PDF input415.pdf.\n",
      "❌ Summary not found in the PDF input373.pdf.\n",
      "❌ Summary not found in the PDF input367.pdf.\n",
      "❌ Summary not found in the PDF input401.pdf.\n"
     ]
    },
    {
     "name": "stderr",
     "output_type": "stream",
     "text": [
      "incorrect startxref pointer(3)\n"
     ]
    },
    {
     "name": "stdout",
     "output_type": "stream",
     "text": [
      "❌ Summary not found in the PDF input429.pdf.\n",
      "❌ Summary not found in the PDF input171.pdf.\n",
      "✅ PDF input165.pdf Extract summary textsuccessfully!\n",
      "✅ PDF input159.pdf Extract summary textsuccessfully!\n",
      "✅ PDF input89.pdf Extract summary textsuccessfully!\n"
     ]
    },
    {
     "name": "stderr",
     "output_type": "stream",
     "text": [
      "incorrect startxref pointer(3)\n"
     ]
    },
    {
     "name": "stdout",
     "output_type": "stream",
     "text": [
      "❌ Summary not found in the PDF input76.pdf.\n",
      "❌ Summary not found in the PDF input62.pdf.\n"
     ]
    },
    {
     "name": "stderr",
     "output_type": "stream",
     "text": [
      "incorrect startxref pointer(3)\n"
     ]
    },
    {
     "name": "stdout",
     "output_type": "stream",
     "text": [
      "❌ Summary not found in the PDF input207.pdf.\n"
     ]
    },
    {
     "name": "stderr",
     "output_type": "stream",
     "text": [
      "incorrect startxref pointer(3)\n"
     ]
    },
    {
     "name": "stdout",
     "output_type": "stream",
     "text": [
      "❌ Summary not found in the PDF input213.pdf.\n"
     ]
    },
    {
     "name": "stderr",
     "output_type": "stream",
     "text": [
      "incorrect startxref pointer(3)\n"
     ]
    },
    {
     "name": "stdout",
     "output_type": "stream",
     "text": [
      "❌ Summary not found in the PDF input212.pdf.\n",
      "❌ Summary not found in the PDF input206.pdf.\n",
      "❌ Summary not found in the PDF input63.pdf.\n",
      "✅ PDF input77.pdf Extract summary textsuccessfully!\n"
     ]
    },
    {
     "name": "stderr",
     "output_type": "stream",
     "text": [
      "incorrect startxref pointer(3)\n"
     ]
    },
    {
     "name": "stdout",
     "output_type": "stream",
     "text": [
      "❌ Summary not found in the PDF input88.pdf.\n",
      "✅ PDF input158.pdf Extract summary textsuccessfully!\n",
      "✅ PDF input164.pdf Extract summary textsuccessfully!\n",
      "❌ Summary not found in the PDF input170.pdf.\n",
      "❌ Summary not found in the PDF input428.pdf.\n",
      "❌ Summary not found in the PDF input366.pdf.\n",
      "❌ Summary not found in the PDF input400.pdf.\n",
      "❌ Summary not found in the PDF input414.pdf.\n",
      "❌ Summary not found in the PDF input372.pdf.\n",
      "❌ Summary not found in the PDF input399.pdf.\n",
      "❌ Summary not found in the PDF input402.pdf.\n",
      "❌ Summary not found in the PDF input364.pdf.\n",
      "❌ Summary not found in the PDF input370.pdf.\n",
      "❌ Summary not found in the PDF input416.pdf.\n"
     ]
    },
    {
     "name": "stderr",
     "output_type": "stream",
     "text": [
      "incorrect startxref pointer(3)\n"
     ]
    },
    {
     "name": "stdout",
     "output_type": "stream",
     "text": [
      "❌ Summary not found in the PDF input358.pdf.\n",
      "✅ PDF input199.pdf Extract summary textsuccessfully!\n",
      "✅ PDF input166.pdf Extract summary textsuccessfully!\n",
      "❌ Summary not found in the PDF input172.pdf.\n",
      "✅ PDF input49.pdf Extract summary textsuccessfully!\n"
     ]
    },
    {
     "name": "stderr",
     "output_type": "stream",
     "text": [
      "incorrect startxref pointer(3)\n"
     ]
    },
    {
     "name": "stdout",
     "output_type": "stream",
     "text": [
      "✅ PDF input61.pdf Extract summary textsuccessfully!\n",
      "✅ PDF input75.pdf Extract summary textsuccessfully!\n"
     ]
    },
    {
     "name": "stderr",
     "output_type": "stream",
     "text": [
      "incorrect startxref pointer(3)\n"
     ]
    },
    {
     "name": "stdout",
     "output_type": "stream",
     "text": [
      "❌ Summary not found in the PDF input210.pdf.\n"
     ]
    },
    {
     "name": "stderr",
     "output_type": "stream",
     "text": [
      "incorrect startxref pointer(3)\n"
     ]
    },
    {
     "name": "stdout",
     "output_type": "stream",
     "text": [
      "❌ Summary not found in the PDF input204.pdf.\n"
     ]
    },
    {
     "name": "stderr",
     "output_type": "stream",
     "text": [
      "incorrect startxref pointer(3)\n"
     ]
    },
    {
     "name": "stdout",
     "output_type": "stream",
     "text": [
      "❌ Summary not found in the PDF input238.pdf.\n"
     ]
    },
    {
     "name": "stderr",
     "output_type": "stream",
     "text": [
      "incorrect startxref pointer(3)\n"
     ]
    },
    {
     "name": "stdout",
     "output_type": "stream",
     "text": [
      "❌ Summary not found in the PDF input239.pdf.\n"
     ]
    },
    {
     "name": "stderr",
     "output_type": "stream",
     "text": [
      "incorrect startxref pointer(3)\n"
     ]
    },
    {
     "name": "stdout",
     "output_type": "stream",
     "text": [
      "❌ Summary not found in the PDF input205.pdf.\n"
     ]
    },
    {
     "name": "stderr",
     "output_type": "stream",
     "text": [
      "incorrect startxref pointer(3)\n"
     ]
    },
    {
     "name": "stdout",
     "output_type": "stream",
     "text": [
      "❌ Summary not found in the PDF input211.pdf.\n",
      "❌ Summary not found in the PDF input74.pdf.\n",
      "❌ Summary not found in the PDF input60.pdf.\n",
      "✅ PDF input48.pdf Extract summary textsuccessfully!\n",
      "❌ Summary not found in the PDF input173.pdf.\n",
      "✅ PDF input167.pdf Extract summary textsuccessfully!\n",
      "✅ PDF input198.pdf Extract summary textsuccessfully!\n",
      "❌ Summary not found in the PDF input359.pdf.\n",
      "❌ Summary not found in the PDF input371.pdf.\n",
      "❌ Summary not found in the PDF input417.pdf.\n",
      "❌ Summary not found in the PDF input403.pdf.\n",
      "❌ Summary not found in the PDF input365.pdf.\n"
     ]
    }
   ],
   "source": [
    "import PyPDF2\n",
    "import fitz\n",
    "import os\n",
    "import re\n",
    "\n",
    "ho_viet_nam = [\n",
    "    \"Nguyễn\", \"Trần\", \"Lê\", \"Phạm\", \"Hoàng\", \"Huỳnh\", \"Phan\", \"Vũ\", \"Võ\", \"Đặng\", \"Bùi\", \"Đỗ\", \"Hồ\", \"Ngô\", \"Dương\", \"Lý\", \"Đinh\", \"Đoàn\", \"Trương\", \"Văn\", \"Tô\", \"Tạ\", \"Tăng\", \"Tống\", \"Quách\", \"Lâm\", \"Cao\", \"Mai\", \"Khương\", \"Hà\", \"Đào\", \"Hồng\", \"Chu\", \"Hứa\", \"Từ\", \"Thái\", \"Ôn\", \"Thạch\", \"Châu\", \"Mạc\", \"Đàm\", \"La\", \"Giang\", \"Vi\", \"Lương\", \"Khuất\", \"Chử\", \"Lục\", \"Bành\", \"Lưu\", \"Tường\", \"Nhâm\", \"Ân\", \"An\", \"Triệu\", \"Kiều\", \"Cổ\", \"Nghiêm\", \"Bạch\", \"Ninh\", \"Đường\", \"Thân\", \"Phùng\", \"Thịnh\", \"Trịnh\", \"Quang\", \"Cấn\", \"Lai\", \"Thi\", \"Yên\", \"Tôn\", \"Sử\", \"Việt\", \"Ngọc\", \"Hàn\", \"Kim\", \"Vĩnh\", \"Đắc\", \"Thiều\", \"Bảo\", \"Diệp\", \"Xà\", \"Lư\", \"Cung\", \"Nông\", \"Giáp\", \"Kha\", \"Chung\", \"Tào\", \"Ái\", \"Hùng\", \"Ngũ\", \"Tịch\", \"Sơn\", \"Cù\", \"Phương\", \"Quyền\", \"Tiêu\", \"Bế\", \"Trác\", \"Hán\", \"Hầu\", \"Vương\"\n",
    "] \n",
    "\n",
    "# def get_file_name(pdf_path):\n",
    "#     with open(pdf_path, 'rb') as pdf_file:\n",
    "#         pdf_reader = PyPDF2.PdfReader(pdf_file)\n",
    "#         file_name = ''\n",
    "#         page = pdf_reader.pages[0]\n",
    "#         page_text = page.extract_text()\n",
    "#         lines = page_text.split('\\n')\n",
    "        \n",
    "#         for i in range(1, len(lines)):\n",
    "#             if len(lines[i]) == 0:\n",
    "#                 continue\n",
    "#             words = lines[i].split()\n",
    "#             if not words:\n",
    "#                 continue\n",
    "#             first_word = words[0]\n",
    "#             if i > 1:\n",
    "#                 if first_word in ho_viet_nam:\n",
    "#                     break\n",
    "#             file_name += lines[i] + ' '\n",
    "#         file_name = file_name[:-1].replace(' ', '_')\n",
    "#         max_length = 200\n",
    "#         if len(file_name) > max_length:\n",
    "#             file_name = file_name[:max_length]\n",
    "#         return file_name + '.txt'\n",
    "\n",
    "\n",
    "def get_file_name(pdf_path):\n",
    "    doc = fitz.open(pdf_path)\n",
    "    page = doc[0]\n",
    "    text_blocks = page.get_text(\"dict\")[\"blocks\"]\n",
    "\n",
    "    # 📌 Biến lưu text có cỡ chữ lớn nhất\n",
    "    max_font_size = 0\n",
    "    max_text = \"\"\n",
    "\n",
    "    # 📌 Duyệt qua từng khối văn bản để tìm text có cỡ chữ lớn nhất\n",
    "    for block in text_blocks:\n",
    "        if \"lines\" in block:  # Kiểm tra nếu có dòng chữ\n",
    "            for line in block[\"lines\"]:\n",
    "                for span in line[\"spans\"]:  # \"spans\" chứa thông tin về font và kích thước chữ\n",
    "                    text = span[\"text\"].strip()\n",
    "                    font_size = span[\"size\"]\n",
    "\n",
    "                    if font_size > max_font_size:  # Cập nhật nếu cỡ chữ lớn hơn\n",
    "                        max_font_size = font_size\n",
    "                        max_text = text\n",
    "                    elif font_size == max_font_size:\n",
    "                        max_text += \" \" + text\n",
    "                    elif max_font_size - font_size < 5 and text != \"\":\n",
    "                        max_text += \" \" + text\n",
    "                    \n",
    "    # Giới hạn độ dài của tên tệp\n",
    "    max_text = max_text[:100]  # Giới hạn tên tệp tối đa 100 ký tự\n",
    "    return re.sub(r'[<>:\"/\\\\|?*]', '_', max_text) + '.txt' #thay thế các kí tự đặc biệt không thể lưu thành tên file\n",
    "\n",
    "\n",
    "def pdf_to_text(pdf_path, output_txt):\n",
    "    with open(pdf_path, 'rb') as pdf_file:\n",
    "        pdf_reader = PyPDF2.PdfReader(pdf_file)\n",
    "        text = ''\n",
    "        \n",
    "        page = pdf_reader.pages[0]\n",
    "        page_text = page.extract_text()\n",
    "        if page_text:\n",
    "            text += ' '.join(page_text.splitlines()) + ' '\n",
    "\n",
    "    lowered_text = text.lower()  # Đưa về chữ thường để tránh lỗi tìm kiếm\n",
    "    lowered_text = re.sub(r'\\s+', ' ', lowered_text)  # Thay thế tất cả các khoảng trắng dài hơn ' ' thành ' '\n",
    "    text = re.sub(r'\\s+', ' ', text)\n",
    "    start_idx = lowered_text.find('tóm t ắt')\n",
    "    if start_idx == -1:\n",
    "        start_idx = lowered_text.find('tóm tắ t')\n",
    "        end_idx = lowered_text.find('từ khóa')\n",
    "\n",
    "        if start_idx != -1 and end_idx != -1 and start_idx < end_idx:\n",
    "            summary_text = text[start_idx + len('tóm tắ t'): end_idx].strip()\n",
    "            with open(output_txt, 'w', encoding='utf-8') as txt_file:\n",
    "                txt_file.write(summary_text)\n",
    "            return True\n",
    "    end_idx = lowered_text.find('từ khóa')\n",
    "\n",
    "    if start_idx != -1 and end_idx != -1 and start_idx < end_idx:\n",
    "        summary_text = text[start_idx + len('tóm t ắt'): end_idx].strip()\n",
    "        with open(output_txt, 'w', encoding='utf-8') as txt_file:\n",
    "            txt_file.write(summary_text)\n",
    "        return True\n",
    "    \n",
    "    return None\n",
    "\n",
    "if __name__ == \"__main__\":\n",
    "    input_dir = '/Users/hoangducanh/Documents/Hoc o HUST/nhom_anh_minh/crawl-abstract-data/data/input/DHHD/'\n",
    "    output_dir = '/Users/hoangducanh/Documents/Hoc o HUST/nhom_anh_minh/crawl-abstract-data/data/output/DHHD/'\n",
    "\n",
    "    for filename in os.listdir(input_dir):\n",
    "        if filename.endswith('.pdf'):\n",
    "            try:\n",
    "                pdf_path = os.path.join(input_dir, filename)\n",
    "                output_txt = os.path.join(output_dir, get_file_name(pdf_path))\n",
    "                result = pdf_to_text(pdf_path, output_txt)\n",
    "                \n",
    "                if result:\n",
    "                    print(f\"✅ PDF {filename} Extract summary textsuccessfully!\")\n",
    "                else:\n",
    "                    print(f\"❌ Summary not found in the PDF {filename}.\")\n",
    "            except:\n",
    "                pass\n",
    "\n",
    "# if __name__ == \"__main__\":\n",
    "#     input_dir = '/Users/hoangducanh/Documents/Hoc o HUST/nhom_anh_minh/crawl-abstract-data/data/input/most/'\n",
    "#     output_dir = '/Users/hoangducanh/Documents/Hoc o HUST/nhom_anh_minh/crawl-abstract-data/data/output/most/'\n",
    "\n",
    "#     for i, filename in enumerate(os.listdir(input_dir), start=1):\n",
    "#         if filename.endswith('.pdf'):\n",
    "#             pdf_path = os.path.join(input_dir, filename)\n",
    "#             output_txt = os.path.join(output_dir, f\"output{i}.txt\")\n",
    "#             result = pdf_to_text(pdf_path, output_txt)\n",
    "            \n",
    "#             if result:\n",
    "#                 print(f\"✅ PDF {filename} Extract summary text successfully!\")\n",
    "#             else:\n",
    "#                 print(f\"❌ Summary not found in the PDF {filename}.\")"
   ]
  }
 ],
 "metadata": {
  "kernelspec": {
   "display_name": "env",
   "language": "python",
   "name": "python3"
  },
  "language_info": {
   "codemirror_mode": {
    "name": "ipython",
    "version": 3
   },
   "file_extension": ".py",
   "mimetype": "text/x-python",
   "name": "python",
   "nbconvert_exporter": "python",
   "pygments_lexer": "ipython3",
   "version": "3.13.2"
  }
 },
 "nbformat": 4,
 "nbformat_minor": 2
}
