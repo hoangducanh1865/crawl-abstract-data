{
 "cells": [
  {
   "cell_type": "code",
   "execution_count": null,
   "metadata": {},
   "outputs": [],
   "source": [
    "keywords = ['khcn', 'dh-NTT']\n",
    "base_urls = []\n",
    "for keyword in keywords:\n",
    "    url = 'https://vjol.info.vn/index.php/' + keyword + '/issue/archiv'\n",
    "    base_urls.append(url)"
   ]
  }
 ],
 "metadata": {
  "kernelspec": {
   "display_name": "env",
   "language": "python",
   "name": "python3"
  },
  "language_info": {
   "name": "python",
   "version": "3.13.2"
  }
 },
 "nbformat": 4,
 "nbformat_minor": 2
}
