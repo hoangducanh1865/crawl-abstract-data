{
 "cells": [
  {
   "cell_type": "code",
   "execution_count": null,
   "metadata": {},
   "outputs": [],
   "source": [
    "import requests\n",
    "from bs4 import BeautifulSoup"
   ]
  },
  {
   "cell_type": "code",
   "execution_count": null,
   "metadata": {},
   "outputs": [
    {
     "name": "stderr",
     "output_type": "stream",
     "text": [
      "/Users/hoangducanh/Documents/Hoc o HUST/nhom_anh_minh/crawl-abstract-data/env/lib/python3.13/site-packages/urllib3/connectionpool.py:1097: InsecureRequestWarning: Unverified HTTPS request is being made to host 'vjol.info.vn'. Adding certificate verification is strongly advised. See: https://urllib3.readthedocs.io/en/latest/advanced-usage.html#tls-warnings\n",
      "  warnings.warn(\n"
     ]
    }
   ],
   "source": [
    "import re\n",
    "\n",
    "keywords = ['khcn', 'dh-NTT']\n",
    "base_pre_pre_urls = []\n",
    "for keyword in keywords:\n",
    "    url = 'https://vjol.info.vn/index.php/' + keyword + '/issue/archiv'\n",
    "    base_pre_pre_urls.append(url)\n",
    "    \n",
    "pre_pre_pdf_urls = []\n",
    "    \n",
    "for base_pre_pre_url in base_pre_pre_urls:\n",
    "    pre_pre_pdf_urls.append(base_pre_pre_url) # Them trang dau tien vao list\n",
    "\n",
    "    count = 2\n",
    "    url = base_pre_pre_url + str(count)\n",
    "    response = requests.get(url, verify=False)\n",
    "    content = BeautifulSoup(response.text, 'lxml')\n",
    "\n",
    "    while 'Kế tiếp' in content.text:\n",
    "        pre_pre_pdf_urls.append(url)\n",
    "        count += 1\n",
    "        url = base_pre_pre_url + str(count)\n",
    "        response = requests.get(url, verify=False)\n",
    "        content = BeautifulSoup(response.text, 'lxml')\n",
    "        \n",
    "    pre_pre_pdf_urls.append(url)  # Them trang cuoi cung vao list\n",
    "\n",
    "\n",
    "for pre_pre_pdf_url in pre_pre_pdf_urls:\n",
    "    response = requests.get(pre_pre_pdf_url, verify=False)\n",
    "    content = BeautifulSoup(response.text, 'lxml')\n",
    "\n",
    "    all_urls = content.find_all('a')\n",
    "\n",
    "    pre_pdf_urls = []\n",
    "\n",
    "    count = 0\n",
    "    for url in all_urls:\n",
    "        try:\n",
    "            href = url['href']\n",
    "            # if 'https://vjol.info.vn/index.php/khcn/issue/view/' in href: # Co truong hop href bi lap, co truong hop thi khong\n",
    "            #     pre_pdf_urls.append(href)\n",
    "            if pre_pre_pdf_url[-1] == 'e':\n",
    "                keychain = pre_pre_pdf_url.replace('archive', 'view')\n",
    "            else:\n",
    "                keychain = pre_pre_pdf_url.replace(r'archive/\\d+', 'view')\n",
    "            \n",
    "            if keychain in href: # Co truong hop href bi lap, co truong hop thi khong\n",
    "                pre_pdf_urls.append(href)\n",
    "                \n",
    "        except Exception as e:\n",
    "            print(\"Error: \", e)"
   ]
  },
  {
   "cell_type": "code",
   "execution_count": 17,
   "metadata": {},
   "outputs": [
    {
     "name": "stderr",
     "output_type": "stream",
     "text": [
      "/Users/hoangducanh/Documents/Hoc o HUST/nhom_anh_minh/crawl-abstract-data/env/lib/python3.13/site-packages/urllib3/connectionpool.py:1097: InsecureRequestWarning: Unverified HTTPS request is being made to host 'vjol.info.vn'. Adding certificate verification is strongly advised. See: https://urllib3.readthedocs.io/en/latest/advanced-usage.html#tls-warnings\n",
      "  warnings.warn(\n"
     ]
    }
   ],
   "source": [
    "url = 'https://vjol.info.vn/index.php/khcn/issue/archive/7'\n",
    "response = requests.get(url, verify=False)\n",
    "content = BeautifulSoup(response.text, 'lxml')"
   ]
  },
  {
   "cell_type": "code",
   "execution_count": 18,
   "metadata": {},
   "outputs": [
    {
     "name": "stdout",
     "output_type": "stream",
     "text": [
      "True\n"
     ]
    }
   ],
   "source": [
    "print('Kế tiếp' in content.text)"
   ]
  },
  {
   "cell_type": "code",
   "execution_count": null,
   "metadata": {},
   "outputs": [],
   "source": []
  }
 ],
 "metadata": {
  "kernelspec": {
   "display_name": "env",
   "language": "python",
   "name": "python3"
  },
  "language_info": {
   "codemirror_mode": {
    "name": "ipython",
    "version": 3
   },
   "file_extension": ".py",
   "mimetype": "text/x-python",
   "name": "python",
   "nbconvert_exporter": "python",
   "pygments_lexer": "ipython3",
   "version": "3.13.2"
  }
 },
 "nbformat": 4,
 "nbformat_minor": 2
}
