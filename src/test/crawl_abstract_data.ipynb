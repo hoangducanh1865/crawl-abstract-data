{
 "cells": [
  {
   "cell_type": "code",
   "execution_count": 3,
   "metadata": {},
   "outputs": [],
   "source": [
    "import re\n",
    "import requests\n",
    "from bs4 import BeautifulSoup"
   ]
  },
  {
   "cell_type": "code",
   "execution_count": 15,
   "metadata": {},
   "outputs": [
    {
     "name": "stderr",
     "output_type": "stream",
     "text": [
      "/Users/hoangducanh/Documents/Hoc o HUST/nhom_anh_minh/crawl-abstract-data/env/lib/python3.13/site-packages/urllib3/connectionpool.py:1097: InsecureRequestWarning: Unverified HTTPS request is being made to host 'vjol.info.vn'. Adding certificate verification is strongly advised. See: https://urllib3.readthedocs.io/en/latest/advanced-usage.html#tls-warnings\n",
      "  warnings.warn(\n",
      "/Users/hoangducanh/Documents/Hoc o HUST/nhom_anh_minh/crawl-abstract-data/env/lib/python3.13/site-packages/urllib3/connectionpool.py:1097: InsecureRequestWarning: Unverified HTTPS request is being made to host 'vjol.info.vn'. Adding certificate verification is strongly advised. See: https://urllib3.readthedocs.io/en/latest/advanced-usage.html#tls-warnings\n",
      "  warnings.warn(\n",
      "/Users/hoangducanh/Documents/Hoc o HUST/nhom_anh_minh/crawl-abstract-data/env/lib/python3.13/site-packages/urllib3/connectionpool.py:1097: InsecureRequestWarning: Unverified HTTPS request is being made to host 'vjol.info.vn'. Adding certificate verification is strongly advised. See: https://urllib3.readthedocs.io/en/latest/advanced-usage.html#tls-warnings\n",
      "  warnings.warn(\n",
      "/Users/hoangducanh/Documents/Hoc o HUST/nhom_anh_minh/crawl-abstract-data/env/lib/python3.13/site-packages/urllib3/connectionpool.py:1097: InsecureRequestWarning: Unverified HTTPS request is being made to host 'vjol.info.vn'. Adding certificate verification is strongly advised. See: https://urllib3.readthedocs.io/en/latest/advanced-usage.html#tls-warnings\n",
      "  warnings.warn(\n",
      "/Users/hoangducanh/Documents/Hoc o HUST/nhom_anh_minh/crawl-abstract-data/env/lib/python3.13/site-packages/urllib3/connectionpool.py:1097: InsecureRequestWarning: Unverified HTTPS request is being made to host 'vjol.info.vn'. Adding certificate verification is strongly advised. See: https://urllib3.readthedocs.io/en/latest/advanced-usage.html#tls-warnings\n",
      "  warnings.warn(\n",
      "/Users/hoangducanh/Documents/Hoc o HUST/nhom_anh_minh/crawl-abstract-data/env/lib/python3.13/site-packages/urllib3/connectionpool.py:1097: InsecureRequestWarning: Unverified HTTPS request is being made to host 'vjol.info.vn'. Adding certificate verification is strongly advised. See: https://urllib3.readthedocs.io/en/latest/advanced-usage.html#tls-warnings\n",
      "  warnings.warn(\n",
      "/Users/hoangducanh/Documents/Hoc o HUST/nhom_anh_minh/crawl-abstract-data/env/lib/python3.13/site-packages/urllib3/connectionpool.py:1097: InsecureRequestWarning: Unverified HTTPS request is being made to host 'vjol.info.vn'. Adding certificate verification is strongly advised. See: https://urllib3.readthedocs.io/en/latest/advanced-usage.html#tls-warnings\n",
      "  warnings.warn(\n",
      "/Users/hoangducanh/Documents/Hoc o HUST/nhom_anh_minh/crawl-abstract-data/env/lib/python3.13/site-packages/urllib3/connectionpool.py:1097: InsecureRequestWarning: Unverified HTTPS request is being made to host 'vjol.info.vn'. Adding certificate verification is strongly advised. See: https://urllib3.readthedocs.io/en/latest/advanced-usage.html#tls-warnings\n",
      "  warnings.warn(\n"
     ]
    },
    {
     "name": "stdout",
     "output_type": "stream",
     "text": [
      "['https://vjol.info.vn/index.php/khcn/issue/archive', 'https://vjol.info.vn/index.php/khcn/issue/archive/2', 'https://vjol.info.vn/index.php/khcn/issue/archive/3', 'https://vjol.info.vn/index.php/khcn/issue/archive/4', 'https://vjol.info.vn/index.php/khcn/issue/archive/5', 'https://vjol.info.vn/index.php/khcn/issue/archive/6', 'https://vjol.info.vn/index.php/khcn/issue/archive/7', 'https://vjol.info.vn/index.php/khcn/issue/archive/8', 'https://vjol.info.vn/index.php/dh-NTT/issue/archive', 'https://vjol.info.vn/index.php/dh-NTT/issue/archive/2']\n"
     ]
    },
    {
     "name": "stderr",
     "output_type": "stream",
     "text": [
      "/Users/hoangducanh/Documents/Hoc o HUST/nhom_anh_minh/crawl-abstract-data/env/lib/python3.13/site-packages/urllib3/connectionpool.py:1097: InsecureRequestWarning: Unverified HTTPS request is being made to host 'vjol.info.vn'. Adding certificate verification is strongly advised. See: https://urllib3.readthedocs.io/en/latest/advanced-usage.html#tls-warnings\n",
      "  warnings.warn(\n",
      "/Users/hoangducanh/Documents/Hoc o HUST/nhom_anh_minh/crawl-abstract-data/env/lib/python3.13/site-packages/urllib3/connectionpool.py:1097: InsecureRequestWarning: Unverified HTTPS request is being made to host 'vjol.info.vn'. Adding certificate verification is strongly advised. See: https://urllib3.readthedocs.io/en/latest/advanced-usage.html#tls-warnings\n",
      "  warnings.warn(\n",
      "/Users/hoangducanh/Documents/Hoc o HUST/nhom_anh_minh/crawl-abstract-data/env/lib/python3.13/site-packages/urllib3/connectionpool.py:1097: InsecureRequestWarning: Unverified HTTPS request is being made to host 'vjol.info.vn'. Adding certificate verification is strongly advised. See: https://urllib3.readthedocs.io/en/latest/advanced-usage.html#tls-warnings\n",
      "  warnings.warn(\n",
      "/Users/hoangducanh/Documents/Hoc o HUST/nhom_anh_minh/crawl-abstract-data/env/lib/python3.13/site-packages/urllib3/connectionpool.py:1097: InsecureRequestWarning: Unverified HTTPS request is being made to host 'vjol.info.vn'. Adding certificate verification is strongly advised. See: https://urllib3.readthedocs.io/en/latest/advanced-usage.html#tls-warnings\n",
      "  warnings.warn(\n",
      "/Users/hoangducanh/Documents/Hoc o HUST/nhom_anh_minh/crawl-abstract-data/env/lib/python3.13/site-packages/urllib3/connectionpool.py:1097: InsecureRequestWarning: Unverified HTTPS request is being made to host 'vjol.info.vn'. Adding certificate verification is strongly advised. See: https://urllib3.readthedocs.io/en/latest/advanced-usage.html#tls-warnings\n",
      "  warnings.warn(\n",
      "/Users/hoangducanh/Documents/Hoc o HUST/nhom_anh_minh/crawl-abstract-data/env/lib/python3.13/site-packages/urllib3/connectionpool.py:1097: InsecureRequestWarning: Unverified HTTPS request is being made to host 'vjol.info.vn'. Adding certificate verification is strongly advised. See: https://urllib3.readthedocs.io/en/latest/advanced-usage.html#tls-warnings\n",
      "  warnings.warn(\n",
      "/Users/hoangducanh/Documents/Hoc o HUST/nhom_anh_minh/crawl-abstract-data/env/lib/python3.13/site-packages/urllib3/connectionpool.py:1097: InsecureRequestWarning: Unverified HTTPS request is being made to host 'vjol.info.vn'. Adding certificate verification is strongly advised. See: https://urllib3.readthedocs.io/en/latest/advanced-usage.html#tls-warnings\n",
      "  warnings.warn(\n",
      "/Users/hoangducanh/Documents/Hoc o HUST/nhom_anh_minh/crawl-abstract-data/env/lib/python3.13/site-packages/urllib3/connectionpool.py:1097: InsecureRequestWarning: Unverified HTTPS request is being made to host 'vjol.info.vn'. Adding certificate verification is strongly advised. See: https://urllib3.readthedocs.io/en/latest/advanced-usage.html#tls-warnings\n",
      "  warnings.warn(\n",
      "/Users/hoangducanh/Documents/Hoc o HUST/nhom_anh_minh/crawl-abstract-data/env/lib/python3.13/site-packages/urllib3/connectionpool.py:1097: InsecureRequestWarning: Unverified HTTPS request is being made to host 'vjol.info.vn'. Adding certificate verification is strongly advised. See: https://urllib3.readthedocs.io/en/latest/advanced-usage.html#tls-warnings\n",
      "  warnings.warn(\n",
      "/Users/hoangducanh/Documents/Hoc o HUST/nhom_anh_minh/crawl-abstract-data/env/lib/python3.13/site-packages/urllib3/connectionpool.py:1097: InsecureRequestWarning: Unverified HTTPS request is being made to host 'vjol.info.vn'. Adding certificate verification is strongly advised. See: https://urllib3.readthedocs.io/en/latest/advanced-usage.html#tls-warnings\n",
      "  warnings.warn(\n"
     ]
    },
    {
     "name": "stdout",
     "output_type": "stream",
     "text": [
      "['https://vjol.info.vn/index.php/khcn/issue/view/8742', 'https://vjol.info.vn/index.php/khcn/issue/view/8742', 'https://vjol.info.vn/index.php/khcn/issue/view/8670', 'https://vjol.info.vn/index.php/khcn/issue/view/8670', 'https://vjol.info.vn/index.php/khcn/issue/view/8621', 'https://vjol.info.vn/index.php/khcn/issue/view/8621', 'https://vjol.info.vn/index.php/khcn/issue/view/8600', 'https://vjol.info.vn/index.php/khcn/issue/view/8600', 'https://vjol.info.vn/index.php/khcn/issue/view/8561', 'https://vjol.info.vn/index.php/khcn/issue/view/8561', 'https://vjol.info.vn/index.php/khcn/issue/view/8492', 'https://vjol.info.vn/index.php/khcn/issue/view/8492', 'https://vjol.info.vn/index.php/khcn/issue/view/8398', 'https://vjol.info.vn/index.php/khcn/issue/view/8398', 'https://vjol.info.vn/index.php/khcn/issue/view/8342', 'https://vjol.info.vn/index.php/khcn/issue/view/8342', 'https://vjol.info.vn/index.php/khcn/issue/view/8285', 'https://vjol.info.vn/index.php/khcn/issue/view/8285', 'https://vjol.info.vn/index.php/khcn/issue/view/8200', 'https://vjol.info.vn/index.php/khcn/issue/view/8200', 'https://vjol.info.vn/index.php/khcn/issue/view/8107', 'https://vjol.info.vn/index.php/khcn/issue/view/8107', 'https://vjol.info.vn/index.php/khcn/issue/view/8051', 'https://vjol.info.vn/index.php/khcn/issue/view/8051', 'https://vjol.info.vn/index.php/khcn/issue/view/7931', 'https://vjol.info.vn/index.php/khcn/issue/view/7931', 'https://vjol.info.vn/index.php/khcn/issue/view/7785', 'https://vjol.info.vn/index.php/khcn/issue/view/7785', 'https://vjol.info.vn/index.php/khcn/issue/view/7672', 'https://vjol.info.vn/index.php/khcn/issue/view/7672', 'https://vjol.info.vn/index.php/khcn/issue/view/7562', 'https://vjol.info.vn/index.php/khcn/issue/view/7562', 'https://vjol.info.vn/index.php/khcn/issue/view/7369', 'https://vjol.info.vn/index.php/khcn/issue/view/7369', 'https://vjol.info.vn/index.php/khcn/issue/view/7452', 'https://vjol.info.vn/index.php/khcn/issue/view/7452', 'https://vjol.info.vn/index.php/khcn/issue/view/7307', 'https://vjol.info.vn/index.php/khcn/issue/view/7307', 'https://vjol.info.vn/index.php/khcn/issue/view/7241', 'https://vjol.info.vn/index.php/khcn/issue/view/7241', 'https://vjol.info.vn/index.php/khcn/issue/view/7190', 'https://vjol.info.vn/index.php/khcn/issue/view/7190', 'https://vjol.info.vn/index.php/khcn/issue/view/7110', 'https://vjol.info.vn/index.php/khcn/issue/view/7110', 'https://vjol.info.vn/index.php/khcn/issue/view/7017', 'https://vjol.info.vn/index.php/khcn/issue/view/7017', 'https://vjol.info.vn/index.php/khcn/issue/view/6950', 'https://vjol.info.vn/index.php/khcn/issue/view/6950', 'https://vjol.info.vn/index.php/khcn/issue/view/6876', 'https://vjol.info.vn/index.php/khcn/issue/view/6876', 'https://vjol.info.vn/index.php/dh-NTT/issue/view/8686', 'https://vjol.info.vn/index.php/dh-NTT/issue/view/8686', 'https://vjol.info.vn/index.php/dh-NTT/issue/view/8557', 'https://vjol.info.vn/index.php/dh-NTT/issue/view/8557', 'https://vjol.info.vn/index.php/dh-NTT/issue/view/8443', 'https://vjol.info.vn/index.php/dh-NTT/issue/view/8443', 'https://vjol.info.vn/index.php/dh-NTT/issue/view/8386', 'https://vjol.info.vn/index.php/dh-NTT/issue/view/8386', 'https://vjol.info.vn/index.php/dh-NTT/issue/view/8047', 'https://vjol.info.vn/index.php/dh-NTT/issue/view/8047', 'https://vjol.info.vn/index.php/dh-NTT/issue/view/7762', 'https://vjol.info.vn/index.php/dh-NTT/issue/view/7762', 'https://vjol.info.vn/index.php/dh-NTT/issue/view/7664', 'https://vjol.info.vn/index.php/dh-NTT/issue/view/7664', 'https://vjol.info.vn/index.php/dh-NTT/issue/view/7479', 'https://vjol.info.vn/index.php/dh-NTT/issue/view/7479', 'https://vjol.info.vn/index.php/dh-NTT/issue/view/7305', 'https://vjol.info.vn/index.php/dh-NTT/issue/view/7305', 'https://vjol.info.vn/index.php/dh-NTT/issue/view/7253', 'https://vjol.info.vn/index.php/dh-NTT/issue/view/7253', 'https://vjol.info.vn/index.php/dh-NTT/issue/view/7167', 'https://vjol.info.vn/index.php/dh-NTT/issue/view/7167', 'https://vjol.info.vn/index.php/dh-NTT/issue/view/6835', 'https://vjol.info.vn/index.php/dh-NTT/issue/view/6835', 'https://vjol.info.vn/index.php/dh-NTT/issue/view/6743', 'https://vjol.info.vn/index.php/dh-NTT/issue/view/6743', 'https://vjol.info.vn/index.php/dh-NTT/issue/view/6177', 'https://vjol.info.vn/index.php/dh-NTT/issue/view/6177', 'https://vjol.info.vn/index.php/dh-NTT/issue/view/5989', 'https://vjol.info.vn/index.php/dh-NTT/issue/view/5989', 'https://vjol.info.vn/index.php/dh-NTT/issue/view/5925', 'https://vjol.info.vn/index.php/dh-NTT/issue/view/5925', 'https://vjol.info.vn/index.php/dh-NTT/issue/view/5699', 'https://vjol.info.vn/index.php/dh-NTT/issue/view/5699', 'https://vjol.info.vn/index.php/dh-NTT/issue/view/5351', 'https://vjol.info.vn/index.php/dh-NTT/issue/view/5351', 'https://vjol.info.vn/index.php/dh-NTT/issue/view/5065', 'https://vjol.info.vn/index.php/dh-NTT/issue/view/5065', 'https://vjol.info.vn/index.php/dh-NTT/issue/view/4943', 'https://vjol.info.vn/index.php/dh-NTT/issue/view/4943', 'https://vjol.info.vn/index.php/dh-NTT/issue/view/4803', 'https://vjol.info.vn/index.php/dh-NTT/issue/view/4803', 'https://vjol.info.vn/index.php/dh-NTT/issue/view/4699', 'https://vjol.info.vn/index.php/dh-NTT/issue/view/4699', 'https://vjol.info.vn/index.php/dh-NTT/issue/view/4338', 'https://vjol.info.vn/index.php/dh-NTT/issue/view/4338', 'https://vjol.info.vn/index.php/dh-NTT/issue/view/4299', 'https://vjol.info.vn/index.php/dh-NTT/issue/view/4299', 'https://vjol.info.vn/index.php/dh-NTT/issue/view/4216', 'https://vjol.info.vn/index.php/dh-NTT/issue/view/4216']\n"
     ]
    },
    {
     "name": "stderr",
     "output_type": "stream",
     "text": [
      "/Users/hoangducanh/Documents/Hoc o HUST/nhom_anh_minh/crawl-abstract-data/env/lib/python3.13/site-packages/urllib3/connectionpool.py:1097: InsecureRequestWarning: Unverified HTTPS request is being made to host 'vjol.info.vn'. Adding certificate verification is strongly advised. See: https://urllib3.readthedocs.io/en/latest/advanced-usage.html#tls-warnings\n",
      "  warnings.warn(\n"
     ]
    },
    {
     "name": "stdout",
     "output_type": "stream",
     "text": [
      "*** https://vjol.info.vn/index.php/khcn/article/view\n",
      "*** https://vjol.info.vn/index.php/khcn/article/view\n",
      "*** https://vjol.info.vn/index.php/khcn/article/view\n",
      "*** https://vjol.info.vn/index.php/khcn/article/view\n",
      "*** https://vjol.info.vn/index.php/khcn/article/view\n",
      "*** https://vjol.info.vn/index.php/khcn/article/view\n",
      "*** https://vjol.info.vn/index.php/khcn/article/view\n",
      "*** https://vjol.info.vn/index.php/khcn/article/view\n",
      "*** https://vjol.info.vn/index.php/khcn/article/view\n",
      "*** https://vjol.info.vn/index.php/khcn/article/view\n",
      "*** https://vjol.info.vn/index.php/khcn/article/view\n",
      "*** https://vjol.info.vn/index.php/khcn/article/view\n",
      "*** https://vjol.info.vn/index.php/khcn/article/view\n",
      "*** https://vjol.info.vn/index.php/khcn/article/view\n",
      "*** https://vjol.info.vn/index.php/khcn/article/view\n",
      "*** https://vjol.info.vn/index.php/khcn/article/view\n",
      "*** https://vjol.info.vn/index.php/khcn/article/view\n",
      "*** https://vjol.info.vn/index.php/khcn/article/view\n",
      "*** https://vjol.info.vn/index.php/khcn/article/view\n",
      "*** https://vjol.info.vn/index.php/khcn/article/view\n",
      "***** https://vjol.info.vn/index.php/khcn/article/download/108392/91023\n"
     ]
    },
    {
     "name": "stderr",
     "output_type": "stream",
     "text": [
      "/Users/hoangducanh/Documents/Hoc o HUST/nhom_anh_minh/crawl-abstract-data/env/lib/python3.13/site-packages/urllib3/connectionpool.py:1097: InsecureRequestWarning: Unverified HTTPS request is being made to host 'vjol.info.vn'. Adding certificate verification is strongly advised. See: https://urllib3.readthedocs.io/en/latest/advanced-usage.html#tls-warnings\n",
      "  warnings.warn(\n"
     ]
    },
    {
     "name": "stdout",
     "output_type": "stream",
     "text": [
      "https://vjol.info.vn/index.php/khcn/article/view/108392/91023\n",
      "*** https://vjol.info.vn/index.php/khcn/article/view\n",
      "*** https://vjol.info.vn/index.php/khcn/article/view\n",
      "***** https://vjol.info.vn/index.php/khcn/article/download/108416/91028\n"
     ]
    },
    {
     "name": "stderr",
     "output_type": "stream",
     "text": [
      "/Users/hoangducanh/Documents/Hoc o HUST/nhom_anh_minh/crawl-abstract-data/env/lib/python3.13/site-packages/urllib3/connectionpool.py:1097: InsecureRequestWarning: Unverified HTTPS request is being made to host 'vjol.info.vn'. Adding certificate verification is strongly advised. See: https://urllib3.readthedocs.io/en/latest/advanced-usage.html#tls-warnings\n",
      "  warnings.warn(\n"
     ]
    },
    {
     "name": "stdout",
     "output_type": "stream",
     "text": [
      "https://vjol.info.vn/index.php/khcn/article/view/108416/91028\n",
      "*** https://vjol.info.vn/index.php/khcn/article/view\n",
      "*** https://vjol.info.vn/index.php/khcn/article/view\n",
      "***** https://vjol.info.vn/index.php/khcn/article/download/108420/91035\n"
     ]
    },
    {
     "name": "stderr",
     "output_type": "stream",
     "text": [
      "/Users/hoangducanh/Documents/Hoc o HUST/nhom_anh_minh/crawl-abstract-data/env/lib/python3.13/site-packages/urllib3/connectionpool.py:1097: InsecureRequestWarning: Unverified HTTPS request is being made to host 'vjol.info.vn'. Adding certificate verification is strongly advised. See: https://urllib3.readthedocs.io/en/latest/advanced-usage.html#tls-warnings\n",
      "  warnings.warn(\n"
     ]
    },
    {
     "name": "stdout",
     "output_type": "stream",
     "text": [
      "https://vjol.info.vn/index.php/khcn/article/view/108420/91035\n",
      "*** https://vjol.info.vn/index.php/khcn/article/view\n",
      "*** https://vjol.info.vn/index.php/khcn/article/view\n",
      "***** https://vjol.info.vn/index.php/khcn/article/download/108425/91062\n"
     ]
    },
    {
     "name": "stderr",
     "output_type": "stream",
     "text": [
      "/Users/hoangducanh/Documents/Hoc o HUST/nhom_anh_minh/crawl-abstract-data/env/lib/python3.13/site-packages/urllib3/connectionpool.py:1097: InsecureRequestWarning: Unverified HTTPS request is being made to host 'vjol.info.vn'. Adding certificate verification is strongly advised. See: https://urllib3.readthedocs.io/en/latest/advanced-usage.html#tls-warnings\n",
      "  warnings.warn(\n"
     ]
    },
    {
     "name": "stdout",
     "output_type": "stream",
     "text": [
      "https://vjol.info.vn/index.php/khcn/article/view/108425/91062\n",
      "*** https://vjol.info.vn/index.php/khcn/article/view\n",
      "*** https://vjol.info.vn/index.php/khcn/article/view\n",
      "***** https://vjol.info.vn/index.php/khcn/article/download/108444/91063\n"
     ]
    },
    {
     "name": "stderr",
     "output_type": "stream",
     "text": [
      "/Users/hoangducanh/Documents/Hoc o HUST/nhom_anh_minh/crawl-abstract-data/env/lib/python3.13/site-packages/urllib3/connectionpool.py:1097: InsecureRequestWarning: Unverified HTTPS request is being made to host 'vjol.info.vn'. Adding certificate verification is strongly advised. See: https://urllib3.readthedocs.io/en/latest/advanced-usage.html#tls-warnings\n",
      "  warnings.warn(\n"
     ]
    },
    {
     "name": "stdout",
     "output_type": "stream",
     "text": [
      "https://vjol.info.vn/index.php/khcn/article/view/108444/91063\n",
      "*** https://vjol.info.vn/index.php/khcn/article/view\n",
      "*** https://vjol.info.vn/index.php/khcn/article/view\n",
      "***** https://vjol.info.vn/index.php/khcn/article/download/108445/91065\n"
     ]
    },
    {
     "name": "stderr",
     "output_type": "stream",
     "text": [
      "/Users/hoangducanh/Documents/Hoc o HUST/nhom_anh_minh/crawl-abstract-data/env/lib/python3.13/site-packages/urllib3/connectionpool.py:1097: InsecureRequestWarning: Unverified HTTPS request is being made to host 'vjol.info.vn'. Adding certificate verification is strongly advised. See: https://urllib3.readthedocs.io/en/latest/advanced-usage.html#tls-warnings\n",
      "  warnings.warn(\n"
     ]
    },
    {
     "name": "stdout",
     "output_type": "stream",
     "text": [
      "https://vjol.info.vn/index.php/khcn/article/view/108445/91065\n",
      "*** https://vjol.info.vn/index.php/khcn/article/view\n",
      "*** https://vjol.info.vn/index.php/khcn/article/view\n",
      "***** https://vjol.info.vn/index.php/khcn/article/download/108448/91066\n"
     ]
    },
    {
     "name": "stderr",
     "output_type": "stream",
     "text": [
      "/Users/hoangducanh/Documents/Hoc o HUST/nhom_anh_minh/crawl-abstract-data/env/lib/python3.13/site-packages/urllib3/connectionpool.py:1097: InsecureRequestWarning: Unverified HTTPS request is being made to host 'vjol.info.vn'. Adding certificate verification is strongly advised. See: https://urllib3.readthedocs.io/en/latest/advanced-usage.html#tls-warnings\n",
      "  warnings.warn(\n"
     ]
    },
    {
     "name": "stdout",
     "output_type": "stream",
     "text": [
      "https://vjol.info.vn/index.php/khcn/article/view/108448/91066\n",
      "*** https://vjol.info.vn/index.php/khcn/article/view\n",
      "*** https://vjol.info.vn/index.php/khcn/article/view\n",
      "***** https://vjol.info.vn/index.php/khcn/article/download/108449/91067\n"
     ]
    },
    {
     "name": "stderr",
     "output_type": "stream",
     "text": [
      "/Users/hoangducanh/Documents/Hoc o HUST/nhom_anh_minh/crawl-abstract-data/env/lib/python3.13/site-packages/urllib3/connectionpool.py:1097: InsecureRequestWarning: Unverified HTTPS request is being made to host 'vjol.info.vn'. Adding certificate verification is strongly advised. See: https://urllib3.readthedocs.io/en/latest/advanced-usage.html#tls-warnings\n",
      "  warnings.warn(\n"
     ]
    },
    {
     "name": "stdout",
     "output_type": "stream",
     "text": [
      "https://vjol.info.vn/index.php/khcn/article/view/108449/91067\n",
      "*** https://vjol.info.vn/index.php/khcn/article/view\n",
      "*** https://vjol.info.vn/index.php/khcn/article/view\n",
      "***** https://vjol.info.vn/index.php/khcn/article/download/108450/91068\n"
     ]
    },
    {
     "name": "stderr",
     "output_type": "stream",
     "text": [
      "/Users/hoangducanh/Documents/Hoc o HUST/nhom_anh_minh/crawl-abstract-data/env/lib/python3.13/site-packages/urllib3/connectionpool.py:1097: InsecureRequestWarning: Unverified HTTPS request is being made to host 'vjol.info.vn'. Adding certificate verification is strongly advised. See: https://urllib3.readthedocs.io/en/latest/advanced-usage.html#tls-warnings\n",
      "  warnings.warn(\n"
     ]
    },
    {
     "name": "stdout",
     "output_type": "stream",
     "text": [
      "https://vjol.info.vn/index.php/khcn/article/view/108450/91068\n",
      "*** https://vjol.info.vn/index.php/khcn/article/view\n",
      "*** https://vjol.info.vn/index.php/khcn/article/view\n",
      "***** https://vjol.info.vn/index.php/khcn/article/download/108451/91069\n"
     ]
    },
    {
     "name": "stderr",
     "output_type": "stream",
     "text": [
      "/Users/hoangducanh/Documents/Hoc o HUST/nhom_anh_minh/crawl-abstract-data/env/lib/python3.13/site-packages/urllib3/connectionpool.py:1097: InsecureRequestWarning: Unverified HTTPS request is being made to host 'vjol.info.vn'. Adding certificate verification is strongly advised. See: https://urllib3.readthedocs.io/en/latest/advanced-usage.html#tls-warnings\n",
      "  warnings.warn(\n"
     ]
    },
    {
     "name": "stdout",
     "output_type": "stream",
     "text": [
      "https://vjol.info.vn/index.php/khcn/article/view/108451/91069\n",
      "*** https://vjol.info.vn/index.php/khcn/article/view\n",
      "*** https://vjol.info.vn/index.php/khcn/article/view\n",
      "***** https://vjol.info.vn/index.php/khcn/article/download/108452/91070\n"
     ]
    },
    {
     "name": "stderr",
     "output_type": "stream",
     "text": [
      "/Users/hoangducanh/Documents/Hoc o HUST/nhom_anh_minh/crawl-abstract-data/env/lib/python3.13/site-packages/urllib3/connectionpool.py:1097: InsecureRequestWarning: Unverified HTTPS request is being made to host 'vjol.info.vn'. Adding certificate verification is strongly advised. See: https://urllib3.readthedocs.io/en/latest/advanced-usage.html#tls-warnings\n",
      "  warnings.warn(\n"
     ]
    },
    {
     "name": "stdout",
     "output_type": "stream",
     "text": [
      "https://vjol.info.vn/index.php/khcn/article/view/108452/91070\n",
      "*** https://vjol.info.vn/index.php/khcn/article/view\n",
      "*** https://vjol.info.vn/index.php/khcn/article/view\n",
      "***** https://vjol.info.vn/index.php/khcn/article/download/108453/91071\n"
     ]
    },
    {
     "name": "stderr",
     "output_type": "stream",
     "text": [
      "/Users/hoangducanh/Documents/Hoc o HUST/nhom_anh_minh/crawl-abstract-data/env/lib/python3.13/site-packages/urllib3/connectionpool.py:1097: InsecureRequestWarning: Unverified HTTPS request is being made to host 'vjol.info.vn'. Adding certificate verification is strongly advised. See: https://urllib3.readthedocs.io/en/latest/advanced-usage.html#tls-warnings\n",
      "  warnings.warn(\n"
     ]
    },
    {
     "name": "stdout",
     "output_type": "stream",
     "text": [
      "https://vjol.info.vn/index.php/khcn/article/view/108453/91071\n",
      "*** https://vjol.info.vn/index.php/khcn/article/view\n",
      "*** https://vjol.info.vn/index.php/khcn/article/view\n",
      "***** https://vjol.info.vn/index.php/khcn/article/download/108454/91072\n"
     ]
    },
    {
     "name": "stderr",
     "output_type": "stream",
     "text": [
      "/Users/hoangducanh/Documents/Hoc o HUST/nhom_anh_minh/crawl-abstract-data/env/lib/python3.13/site-packages/urllib3/connectionpool.py:1097: InsecureRequestWarning: Unverified HTTPS request is being made to host 'vjol.info.vn'. Adding certificate verification is strongly advised. See: https://urllib3.readthedocs.io/en/latest/advanced-usage.html#tls-warnings\n",
      "  warnings.warn(\n"
     ]
    },
    {
     "name": "stdout",
     "output_type": "stream",
     "text": [
      "https://vjol.info.vn/index.php/khcn/article/view/108454/91072\n",
      "*** https://vjol.info.vn/index.php/khcn/article/view\n",
      "*** https://vjol.info.vn/index.php/khcn/article/view\n",
      "***** https://vjol.info.vn/index.php/khcn/article/download/108455/91073\n"
     ]
    },
    {
     "name": "stderr",
     "output_type": "stream",
     "text": [
      "/Users/hoangducanh/Documents/Hoc o HUST/nhom_anh_minh/crawl-abstract-data/env/lib/python3.13/site-packages/urllib3/connectionpool.py:1097: InsecureRequestWarning: Unverified HTTPS request is being made to host 'vjol.info.vn'. Adding certificate verification is strongly advised. See: https://urllib3.readthedocs.io/en/latest/advanced-usage.html#tls-warnings\n",
      "  warnings.warn(\n"
     ]
    },
    {
     "name": "stdout",
     "output_type": "stream",
     "text": [
      "https://vjol.info.vn/index.php/khcn/article/view/108455/91073\n",
      "*** https://vjol.info.vn/index.php/khcn/article/view\n",
      "*** https://vjol.info.vn/index.php/khcn/article/view\n",
      "***** https://vjol.info.vn/index.php/khcn/article/download/108456/91074\n"
     ]
    },
    {
     "name": "stderr",
     "output_type": "stream",
     "text": [
      "/Users/hoangducanh/Documents/Hoc o HUST/nhom_anh_minh/crawl-abstract-data/env/lib/python3.13/site-packages/urllib3/connectionpool.py:1097: InsecureRequestWarning: Unverified HTTPS request is being made to host 'vjol.info.vn'. Adding certificate verification is strongly advised. See: https://urllib3.readthedocs.io/en/latest/advanced-usage.html#tls-warnings\n",
      "  warnings.warn(\n"
     ]
    },
    {
     "name": "stdout",
     "output_type": "stream",
     "text": [
      "https://vjol.info.vn/index.php/khcn/article/view/108456/91074\n",
      "*** https://vjol.info.vn/index.php/khcn/article/view\n",
      "*** https://vjol.info.vn/index.php/khcn/article/view\n",
      "***** https://vjol.info.vn/index.php/khcn/article/download/108457/91075\n"
     ]
    },
    {
     "name": "stderr",
     "output_type": "stream",
     "text": [
      "/Users/hoangducanh/Documents/Hoc o HUST/nhom_anh_minh/crawl-abstract-data/env/lib/python3.13/site-packages/urllib3/connectionpool.py:1097: InsecureRequestWarning: Unverified HTTPS request is being made to host 'vjol.info.vn'. Adding certificate verification is strongly advised. See: https://urllib3.readthedocs.io/en/latest/advanced-usage.html#tls-warnings\n",
      "  warnings.warn(\n"
     ]
    },
    {
     "name": "stdout",
     "output_type": "stream",
     "text": [
      "https://vjol.info.vn/index.php/khcn/article/view/108457/91075\n",
      "*** https://vjol.info.vn/index.php/khcn/article/view\n",
      "*** https://vjol.info.vn/index.php/khcn/article/view\n",
      "***** https://vjol.info.vn/index.php/khcn/article/download/108458/91076\n"
     ]
    },
    {
     "ename": "KeyboardInterrupt",
     "evalue": "",
     "output_type": "error",
     "traceback": [
      "\u001b[31m---------------------------------------------------------------------------\u001b[39m",
      "\u001b[31mKeyboardInterrupt\u001b[39m                         Traceback (most recent call last)",
      "\u001b[36mCell\u001b[39m\u001b[36m \u001b[39m\u001b[32mIn[15]\u001b[39m\u001b[32m, line 73\u001b[39m\n\u001b[32m     71\u001b[39m download_url = url[\u001b[33m'\u001b[39m\u001b[33mhref\u001b[39m\u001b[33m'\u001b[39m].replace(\u001b[33m'\u001b[39m\u001b[33mview\u001b[39m\u001b[33m'\u001b[39m, \u001b[33m'\u001b[39m\u001b[33mdownload\u001b[39m\u001b[33m'\u001b[39m)\n\u001b[32m     72\u001b[39m \u001b[38;5;28mprint\u001b[39m(\u001b[33m'\u001b[39m\u001b[33m*****\u001b[39m\u001b[33m'\u001b[39m, download_url)\n\u001b[32m---> \u001b[39m\u001b[32m73\u001b[39m pdf_response = \u001b[43mrequests\u001b[49m\u001b[43m.\u001b[49m\u001b[43mget\u001b[49m\u001b[43m(\u001b[49m\u001b[43mdownload_url\u001b[49m\u001b[43m,\u001b[49m\u001b[43m \u001b[49m\u001b[43mverify\u001b[49m\u001b[43m=\u001b[49m\u001b[38;5;28;43;01mFalse\u001b[39;49;00m\u001b[43m)\u001b[49m\n\u001b[32m     74\u001b[39m \u001b[38;5;28mprint\u001b[39m(url[\u001b[33m'\u001b[39m\u001b[33mhref\u001b[39m\u001b[33m'\u001b[39m])\n\u001b[32m     76\u001b[39m count += \u001b[32m1\u001b[39m\n",
      "\u001b[36mFile \u001b[39m\u001b[32m~/Documents/Hoc o HUST/nhom_anh_minh/crawl-abstract-data/env/lib/python3.13/site-packages/requests/api.py:73\u001b[39m, in \u001b[36mget\u001b[39m\u001b[34m(url, params, **kwargs)\u001b[39m\n\u001b[32m     62\u001b[39m \u001b[38;5;28;01mdef\u001b[39;00m\u001b[38;5;250m \u001b[39m\u001b[34mget\u001b[39m(url, params=\u001b[38;5;28;01mNone\u001b[39;00m, **kwargs):\n\u001b[32m     63\u001b[39m \u001b[38;5;250m    \u001b[39m\u001b[33mr\u001b[39m\u001b[33;03m\"\"\"Sends a GET request.\u001b[39;00m\n\u001b[32m     64\u001b[39m \n\u001b[32m     65\u001b[39m \u001b[33;03m    :param url: URL for the new :class:`Request` object.\u001b[39;00m\n\u001b[32m   (...)\u001b[39m\u001b[32m     70\u001b[39m \u001b[33;03m    :rtype: requests.Response\u001b[39;00m\n\u001b[32m     71\u001b[39m \u001b[33;03m    \"\"\"\u001b[39;00m\n\u001b[32m---> \u001b[39m\u001b[32m73\u001b[39m     \u001b[38;5;28;01mreturn\u001b[39;00m \u001b[43mrequest\u001b[49m\u001b[43m(\u001b[49m\u001b[33;43m\"\u001b[39;49m\u001b[33;43mget\u001b[39;49m\u001b[33;43m\"\u001b[39;49m\u001b[43m,\u001b[49m\u001b[43m \u001b[49m\u001b[43murl\u001b[49m\u001b[43m,\u001b[49m\u001b[43m \u001b[49m\u001b[43mparams\u001b[49m\u001b[43m=\u001b[49m\u001b[43mparams\u001b[49m\u001b[43m,\u001b[49m\u001b[43m \u001b[49m\u001b[43m*\u001b[49m\u001b[43m*\u001b[49m\u001b[43mkwargs\u001b[49m\u001b[43m)\u001b[49m\n",
      "\u001b[36mFile \u001b[39m\u001b[32m~/Documents/Hoc o HUST/nhom_anh_minh/crawl-abstract-data/env/lib/python3.13/site-packages/requests/api.py:59\u001b[39m, in \u001b[36mrequest\u001b[39m\u001b[34m(method, url, **kwargs)\u001b[39m\n\u001b[32m     55\u001b[39m \u001b[38;5;66;03m# By using the 'with' statement we are sure the session is closed, thus we\u001b[39;00m\n\u001b[32m     56\u001b[39m \u001b[38;5;66;03m# avoid leaving sockets open which can trigger a ResourceWarning in some\u001b[39;00m\n\u001b[32m     57\u001b[39m \u001b[38;5;66;03m# cases, and look like a memory leak in others.\u001b[39;00m\n\u001b[32m     58\u001b[39m \u001b[38;5;28;01mwith\u001b[39;00m sessions.Session() \u001b[38;5;28;01mas\u001b[39;00m session:\n\u001b[32m---> \u001b[39m\u001b[32m59\u001b[39m     \u001b[38;5;28;01mreturn\u001b[39;00m \u001b[43msession\u001b[49m\u001b[43m.\u001b[49m\u001b[43mrequest\u001b[49m\u001b[43m(\u001b[49m\u001b[43mmethod\u001b[49m\u001b[43m=\u001b[49m\u001b[43mmethod\u001b[49m\u001b[43m,\u001b[49m\u001b[43m \u001b[49m\u001b[43murl\u001b[49m\u001b[43m=\u001b[49m\u001b[43murl\u001b[49m\u001b[43m,\u001b[49m\u001b[43m \u001b[49m\u001b[43m*\u001b[49m\u001b[43m*\u001b[49m\u001b[43mkwargs\u001b[49m\u001b[43m)\u001b[49m\n",
      "\u001b[36mFile \u001b[39m\u001b[32m~/Documents/Hoc o HUST/nhom_anh_minh/crawl-abstract-data/env/lib/python3.13/site-packages/requests/sessions.py:589\u001b[39m, in \u001b[36mSession.request\u001b[39m\u001b[34m(self, method, url, params, data, headers, cookies, files, auth, timeout, allow_redirects, proxies, hooks, stream, verify, cert, json)\u001b[39m\n\u001b[32m    584\u001b[39m send_kwargs = {\n\u001b[32m    585\u001b[39m     \u001b[33m\"\u001b[39m\u001b[33mtimeout\u001b[39m\u001b[33m\"\u001b[39m: timeout,\n\u001b[32m    586\u001b[39m     \u001b[33m\"\u001b[39m\u001b[33mallow_redirects\u001b[39m\u001b[33m\"\u001b[39m: allow_redirects,\n\u001b[32m    587\u001b[39m }\n\u001b[32m    588\u001b[39m send_kwargs.update(settings)\n\u001b[32m--> \u001b[39m\u001b[32m589\u001b[39m resp = \u001b[38;5;28;43mself\u001b[39;49m\u001b[43m.\u001b[49m\u001b[43msend\u001b[49m\u001b[43m(\u001b[49m\u001b[43mprep\u001b[49m\u001b[43m,\u001b[49m\u001b[43m \u001b[49m\u001b[43m*\u001b[49m\u001b[43m*\u001b[49m\u001b[43msend_kwargs\u001b[49m\u001b[43m)\u001b[49m\n\u001b[32m    591\u001b[39m \u001b[38;5;28;01mreturn\u001b[39;00m resp\n",
      "\u001b[36mFile \u001b[39m\u001b[32m~/Documents/Hoc o HUST/nhom_anh_minh/crawl-abstract-data/env/lib/python3.13/site-packages/requests/sessions.py:703\u001b[39m, in \u001b[36mSession.send\u001b[39m\u001b[34m(self, request, **kwargs)\u001b[39m\n\u001b[32m    700\u001b[39m start = preferred_clock()\n\u001b[32m    702\u001b[39m \u001b[38;5;66;03m# Send the request\u001b[39;00m\n\u001b[32m--> \u001b[39m\u001b[32m703\u001b[39m r = \u001b[43madapter\u001b[49m\u001b[43m.\u001b[49m\u001b[43msend\u001b[49m\u001b[43m(\u001b[49m\u001b[43mrequest\u001b[49m\u001b[43m,\u001b[49m\u001b[43m \u001b[49m\u001b[43m*\u001b[49m\u001b[43m*\u001b[49m\u001b[43mkwargs\u001b[49m\u001b[43m)\u001b[49m\n\u001b[32m    705\u001b[39m \u001b[38;5;66;03m# Total elapsed time of the request (approximately)\u001b[39;00m\n\u001b[32m    706\u001b[39m elapsed = preferred_clock() - start\n",
      "\u001b[36mFile \u001b[39m\u001b[32m~/Documents/Hoc o HUST/nhom_anh_minh/crawl-abstract-data/env/lib/python3.13/site-packages/requests/adapters.py:667\u001b[39m, in \u001b[36mHTTPAdapter.send\u001b[39m\u001b[34m(self, request, stream, timeout, verify, cert, proxies)\u001b[39m\n\u001b[32m    664\u001b[39m     timeout = TimeoutSauce(connect=timeout, read=timeout)\n\u001b[32m    666\u001b[39m \u001b[38;5;28;01mtry\u001b[39;00m:\n\u001b[32m--> \u001b[39m\u001b[32m667\u001b[39m     resp = \u001b[43mconn\u001b[49m\u001b[43m.\u001b[49m\u001b[43murlopen\u001b[49m\u001b[43m(\u001b[49m\n\u001b[32m    668\u001b[39m \u001b[43m        \u001b[49m\u001b[43mmethod\u001b[49m\u001b[43m=\u001b[49m\u001b[43mrequest\u001b[49m\u001b[43m.\u001b[49m\u001b[43mmethod\u001b[49m\u001b[43m,\u001b[49m\n\u001b[32m    669\u001b[39m \u001b[43m        \u001b[49m\u001b[43murl\u001b[49m\u001b[43m=\u001b[49m\u001b[43murl\u001b[49m\u001b[43m,\u001b[49m\n\u001b[32m    670\u001b[39m \u001b[43m        \u001b[49m\u001b[43mbody\u001b[49m\u001b[43m=\u001b[49m\u001b[43mrequest\u001b[49m\u001b[43m.\u001b[49m\u001b[43mbody\u001b[49m\u001b[43m,\u001b[49m\n\u001b[32m    671\u001b[39m \u001b[43m        \u001b[49m\u001b[43mheaders\u001b[49m\u001b[43m=\u001b[49m\u001b[43mrequest\u001b[49m\u001b[43m.\u001b[49m\u001b[43mheaders\u001b[49m\u001b[43m,\u001b[49m\n\u001b[32m    672\u001b[39m \u001b[43m        \u001b[49m\u001b[43mredirect\u001b[49m\u001b[43m=\u001b[49m\u001b[38;5;28;43;01mFalse\u001b[39;49;00m\u001b[43m,\u001b[49m\n\u001b[32m    673\u001b[39m \u001b[43m        \u001b[49m\u001b[43massert_same_host\u001b[49m\u001b[43m=\u001b[49m\u001b[38;5;28;43;01mFalse\u001b[39;49;00m\u001b[43m,\u001b[49m\n\u001b[32m    674\u001b[39m \u001b[43m        \u001b[49m\u001b[43mpreload_content\u001b[49m\u001b[43m=\u001b[49m\u001b[38;5;28;43;01mFalse\u001b[39;49;00m\u001b[43m,\u001b[49m\n\u001b[32m    675\u001b[39m \u001b[43m        \u001b[49m\u001b[43mdecode_content\u001b[49m\u001b[43m=\u001b[49m\u001b[38;5;28;43;01mFalse\u001b[39;49;00m\u001b[43m,\u001b[49m\n\u001b[32m    676\u001b[39m \u001b[43m        \u001b[49m\u001b[43mretries\u001b[49m\u001b[43m=\u001b[49m\u001b[38;5;28;43mself\u001b[39;49m\u001b[43m.\u001b[49m\u001b[43mmax_retries\u001b[49m\u001b[43m,\u001b[49m\n\u001b[32m    677\u001b[39m \u001b[43m        \u001b[49m\u001b[43mtimeout\u001b[49m\u001b[43m=\u001b[49m\u001b[43mtimeout\u001b[49m\u001b[43m,\u001b[49m\n\u001b[32m    678\u001b[39m \u001b[43m        \u001b[49m\u001b[43mchunked\u001b[49m\u001b[43m=\u001b[49m\u001b[43mchunked\u001b[49m\u001b[43m,\u001b[49m\n\u001b[32m    679\u001b[39m \u001b[43m    \u001b[49m\u001b[43m)\u001b[49m\n\u001b[32m    681\u001b[39m \u001b[38;5;28;01mexcept\u001b[39;00m (ProtocolError, \u001b[38;5;167;01mOSError\u001b[39;00m) \u001b[38;5;28;01mas\u001b[39;00m err:\n\u001b[32m    682\u001b[39m     \u001b[38;5;28;01mraise\u001b[39;00m \u001b[38;5;167;01mConnectionError\u001b[39;00m(err, request=request)\n",
      "\u001b[36mFile \u001b[39m\u001b[32m~/Documents/Hoc o HUST/nhom_anh_minh/crawl-abstract-data/env/lib/python3.13/site-packages/urllib3/connectionpool.py:787\u001b[39m, in \u001b[36mHTTPConnectionPool.urlopen\u001b[39m\u001b[34m(self, method, url, body, headers, retries, redirect, assert_same_host, timeout, pool_timeout, release_conn, chunked, body_pos, preload_content, decode_content, **response_kw)\u001b[39m\n\u001b[32m    784\u001b[39m response_conn = conn \u001b[38;5;28;01mif\u001b[39;00m \u001b[38;5;129;01mnot\u001b[39;00m release_conn \u001b[38;5;28;01melse\u001b[39;00m \u001b[38;5;28;01mNone\u001b[39;00m\n\u001b[32m    786\u001b[39m \u001b[38;5;66;03m# Make the request on the HTTPConnection object\u001b[39;00m\n\u001b[32m--> \u001b[39m\u001b[32m787\u001b[39m response = \u001b[38;5;28;43mself\u001b[39;49m\u001b[43m.\u001b[49m\u001b[43m_make_request\u001b[49m\u001b[43m(\u001b[49m\n\u001b[32m    788\u001b[39m \u001b[43m    \u001b[49m\u001b[43mconn\u001b[49m\u001b[43m,\u001b[49m\n\u001b[32m    789\u001b[39m \u001b[43m    \u001b[49m\u001b[43mmethod\u001b[49m\u001b[43m,\u001b[49m\n\u001b[32m    790\u001b[39m \u001b[43m    \u001b[49m\u001b[43murl\u001b[49m\u001b[43m,\u001b[49m\n\u001b[32m    791\u001b[39m \u001b[43m    \u001b[49m\u001b[43mtimeout\u001b[49m\u001b[43m=\u001b[49m\u001b[43mtimeout_obj\u001b[49m\u001b[43m,\u001b[49m\n\u001b[32m    792\u001b[39m \u001b[43m    \u001b[49m\u001b[43mbody\u001b[49m\u001b[43m=\u001b[49m\u001b[43mbody\u001b[49m\u001b[43m,\u001b[49m\n\u001b[32m    793\u001b[39m \u001b[43m    \u001b[49m\u001b[43mheaders\u001b[49m\u001b[43m=\u001b[49m\u001b[43mheaders\u001b[49m\u001b[43m,\u001b[49m\n\u001b[32m    794\u001b[39m \u001b[43m    \u001b[49m\u001b[43mchunked\u001b[49m\u001b[43m=\u001b[49m\u001b[43mchunked\u001b[49m\u001b[43m,\u001b[49m\n\u001b[32m    795\u001b[39m \u001b[43m    \u001b[49m\u001b[43mretries\u001b[49m\u001b[43m=\u001b[49m\u001b[43mretries\u001b[49m\u001b[43m,\u001b[49m\n\u001b[32m    796\u001b[39m \u001b[43m    \u001b[49m\u001b[43mresponse_conn\u001b[49m\u001b[43m=\u001b[49m\u001b[43mresponse_conn\u001b[49m\u001b[43m,\u001b[49m\n\u001b[32m    797\u001b[39m \u001b[43m    \u001b[49m\u001b[43mpreload_content\u001b[49m\u001b[43m=\u001b[49m\u001b[43mpreload_content\u001b[49m\u001b[43m,\u001b[49m\n\u001b[32m    798\u001b[39m \u001b[43m    \u001b[49m\u001b[43mdecode_content\u001b[49m\u001b[43m=\u001b[49m\u001b[43mdecode_content\u001b[49m\u001b[43m,\u001b[49m\n\u001b[32m    799\u001b[39m \u001b[43m    \u001b[49m\u001b[43m*\u001b[49m\u001b[43m*\u001b[49m\u001b[43mresponse_kw\u001b[49m\u001b[43m,\u001b[49m\n\u001b[32m    800\u001b[39m \u001b[43m\u001b[49m\u001b[43m)\u001b[49m\n\u001b[32m    802\u001b[39m \u001b[38;5;66;03m# Everything went great!\u001b[39;00m\n\u001b[32m    803\u001b[39m clean_exit = \u001b[38;5;28;01mTrue\u001b[39;00m\n",
      "\u001b[36mFile \u001b[39m\u001b[32m~/Documents/Hoc o HUST/nhom_anh_minh/crawl-abstract-data/env/lib/python3.13/site-packages/urllib3/connectionpool.py:464\u001b[39m, in \u001b[36mHTTPConnectionPool._make_request\u001b[39m\u001b[34m(self, conn, method, url, body, headers, retries, timeout, chunked, response_conn, preload_content, decode_content, enforce_content_length)\u001b[39m\n\u001b[32m    461\u001b[39m \u001b[38;5;28;01mtry\u001b[39;00m:\n\u001b[32m    462\u001b[39m     \u001b[38;5;66;03m# Trigger any extra validation we need to do.\u001b[39;00m\n\u001b[32m    463\u001b[39m     \u001b[38;5;28;01mtry\u001b[39;00m:\n\u001b[32m--> \u001b[39m\u001b[32m464\u001b[39m         \u001b[38;5;28;43mself\u001b[39;49m\u001b[43m.\u001b[49m\u001b[43m_validate_conn\u001b[49m\u001b[43m(\u001b[49m\u001b[43mconn\u001b[49m\u001b[43m)\u001b[49m\n\u001b[32m    465\u001b[39m     \u001b[38;5;28;01mexcept\u001b[39;00m (SocketTimeout, BaseSSLError) \u001b[38;5;28;01mas\u001b[39;00m e:\n\u001b[32m    466\u001b[39m         \u001b[38;5;28mself\u001b[39m._raise_timeout(err=e, url=url, timeout_value=conn.timeout)\n",
      "\u001b[36mFile \u001b[39m\u001b[32m~/Documents/Hoc o HUST/nhom_anh_minh/crawl-abstract-data/env/lib/python3.13/site-packages/urllib3/connectionpool.py:1093\u001b[39m, in \u001b[36mHTTPSConnectionPool._validate_conn\u001b[39m\u001b[34m(self, conn)\u001b[39m\n\u001b[32m   1091\u001b[39m \u001b[38;5;66;03m# Force connect early to allow us to validate the connection.\u001b[39;00m\n\u001b[32m   1092\u001b[39m \u001b[38;5;28;01mif\u001b[39;00m conn.is_closed:\n\u001b[32m-> \u001b[39m\u001b[32m1093\u001b[39m     \u001b[43mconn\u001b[49m\u001b[43m.\u001b[49m\u001b[43mconnect\u001b[49m\u001b[43m(\u001b[49m\u001b[43m)\u001b[49m\n\u001b[32m   1095\u001b[39m \u001b[38;5;66;03m# TODO revise this, see https://github.com/urllib3/urllib3/issues/2791\u001b[39;00m\n\u001b[32m   1096\u001b[39m \u001b[38;5;28;01mif\u001b[39;00m \u001b[38;5;129;01mnot\u001b[39;00m conn.is_verified \u001b[38;5;129;01mand\u001b[39;00m \u001b[38;5;129;01mnot\u001b[39;00m conn.proxy_is_verified:\n",
      "\u001b[36mFile \u001b[39m\u001b[32m~/Documents/Hoc o HUST/nhom_anh_minh/crawl-abstract-data/env/lib/python3.13/site-packages/urllib3/connection.py:704\u001b[39m, in \u001b[36mHTTPSConnection.connect\u001b[39m\u001b[34m(self)\u001b[39m\n\u001b[32m    702\u001b[39m \u001b[38;5;28;01mtry\u001b[39;00m:\n\u001b[32m    703\u001b[39m     sock: socket.socket | ssl.SSLSocket\n\u001b[32m--> \u001b[39m\u001b[32m704\u001b[39m     \u001b[38;5;28mself\u001b[39m.sock = sock = \u001b[38;5;28;43mself\u001b[39;49m\u001b[43m.\u001b[49m\u001b[43m_new_conn\u001b[49m\u001b[43m(\u001b[49m\u001b[43m)\u001b[49m\n\u001b[32m    705\u001b[39m     server_hostname: \u001b[38;5;28mstr\u001b[39m = \u001b[38;5;28mself\u001b[39m.host\n\u001b[32m    706\u001b[39m     tls_in_tls = \u001b[38;5;28;01mFalse\u001b[39;00m\n",
      "\u001b[36mFile \u001b[39m\u001b[32m~/Documents/Hoc o HUST/nhom_anh_minh/crawl-abstract-data/env/lib/python3.13/site-packages/urllib3/connection.py:198\u001b[39m, in \u001b[36mHTTPConnection._new_conn\u001b[39m\u001b[34m(self)\u001b[39m\n\u001b[32m    193\u001b[39m \u001b[38;5;250m\u001b[39m\u001b[33;03m\"\"\"Establish a socket connection and set nodelay settings on it.\u001b[39;00m\n\u001b[32m    194\u001b[39m \n\u001b[32m    195\u001b[39m \u001b[33;03m:return: New socket connection.\u001b[39;00m\n\u001b[32m    196\u001b[39m \u001b[33;03m\"\"\"\u001b[39;00m\n\u001b[32m    197\u001b[39m \u001b[38;5;28;01mtry\u001b[39;00m:\n\u001b[32m--> \u001b[39m\u001b[32m198\u001b[39m     sock = \u001b[43mconnection\u001b[49m\u001b[43m.\u001b[49m\u001b[43mcreate_connection\u001b[49m\u001b[43m(\u001b[49m\n\u001b[32m    199\u001b[39m \u001b[43m        \u001b[49m\u001b[43m(\u001b[49m\u001b[38;5;28;43mself\u001b[39;49m\u001b[43m.\u001b[49m\u001b[43m_dns_host\u001b[49m\u001b[43m,\u001b[49m\u001b[43m \u001b[49m\u001b[38;5;28;43mself\u001b[39;49m\u001b[43m.\u001b[49m\u001b[43mport\u001b[49m\u001b[43m)\u001b[49m\u001b[43m,\u001b[49m\n\u001b[32m    200\u001b[39m \u001b[43m        \u001b[49m\u001b[38;5;28;43mself\u001b[39;49m\u001b[43m.\u001b[49m\u001b[43mtimeout\u001b[49m\u001b[43m,\u001b[49m\n\u001b[32m    201\u001b[39m \u001b[43m        \u001b[49m\u001b[43msource_address\u001b[49m\u001b[43m=\u001b[49m\u001b[38;5;28;43mself\u001b[39;49m\u001b[43m.\u001b[49m\u001b[43msource_address\u001b[49m\u001b[43m,\u001b[49m\n\u001b[32m    202\u001b[39m \u001b[43m        \u001b[49m\u001b[43msocket_options\u001b[49m\u001b[43m=\u001b[49m\u001b[38;5;28;43mself\u001b[39;49m\u001b[43m.\u001b[49m\u001b[43msocket_options\u001b[49m\u001b[43m,\u001b[49m\n\u001b[32m    203\u001b[39m \u001b[43m    \u001b[49m\u001b[43m)\u001b[49m\n\u001b[32m    204\u001b[39m \u001b[38;5;28;01mexcept\u001b[39;00m socket.gaierror \u001b[38;5;28;01mas\u001b[39;00m e:\n\u001b[32m    205\u001b[39m     \u001b[38;5;28;01mraise\u001b[39;00m NameResolutionError(\u001b[38;5;28mself\u001b[39m.host, \u001b[38;5;28mself\u001b[39m, e) \u001b[38;5;28;01mfrom\u001b[39;00m\u001b[38;5;250m \u001b[39m\u001b[34;01me\u001b[39;00m\n",
      "\u001b[36mFile \u001b[39m\u001b[32m~/Documents/Hoc o HUST/nhom_anh_minh/crawl-abstract-data/env/lib/python3.13/site-packages/urllib3/util/connection.py:73\u001b[39m, in \u001b[36mcreate_connection\u001b[39m\u001b[34m(address, timeout, source_address, socket_options)\u001b[39m\n\u001b[32m     71\u001b[39m \u001b[38;5;28;01mif\u001b[39;00m source_address:\n\u001b[32m     72\u001b[39m     sock.bind(source_address)\n\u001b[32m---> \u001b[39m\u001b[32m73\u001b[39m \u001b[43msock\u001b[49m\u001b[43m.\u001b[49m\u001b[43mconnect\u001b[49m\u001b[43m(\u001b[49m\u001b[43msa\u001b[49m\u001b[43m)\u001b[49m\n\u001b[32m     74\u001b[39m \u001b[38;5;66;03m# Break explicitly a reference cycle\u001b[39;00m\n\u001b[32m     75\u001b[39m err = \u001b[38;5;28;01mNone\u001b[39;00m\n",
      "\u001b[31mKeyboardInterrupt\u001b[39m: "
     ]
    }
   ],
   "source": [
    "keywords = ['khcn', 'dh-NTT']\n",
    "\n",
    "base_pre_pre_urls = []\n",
    "\n",
    "for keyword in keywords:\n",
    "    url = 'https://vjol.info.vn/index.php/' + keyword + '/issue/archive'\n",
    "    base_pre_pre_urls.append(url)\n",
    "    \n",
    "pre_pre_pdf_urls = []\n",
    "    \n",
    "for base_pre_pre_url in base_pre_pre_urls:\n",
    "    pre_pre_pdf_urls.append(base_pre_pre_url) # Them trang dau tien vao list\n",
    "\n",
    "    count = 2\n",
    "    pre_pre_pdf_url = base_pre_pre_url + '/' + str(count)\n",
    "    response = requests.get(pre_pre_pdf_url, verify=False)\n",
    "    content = BeautifulSoup(response.text, 'lxml')\n",
    "\n",
    "    while 'Kế tiếp' in content.text:\n",
    "        pre_pre_pdf_urls.append(pre_pre_pdf_url)\n",
    "        count += 1\n",
    "        pre_pre_pdf_url = base_pre_pre_url + '/' + str(count)\n",
    "        response = requests.get(pre_pre_pdf_url, verify=False)\n",
    "        content = BeautifulSoup(response.text, 'lxml')\n",
    "        \n",
    "    pre_pre_pdf_urls.append(pre_pre_pdf_url)  # Them trang cuoi cung vao list\n",
    "\n",
    "print(pre_pre_pdf_urls)\n",
    "\n",
    "pre_pdf_urls = []\n",
    "\n",
    "for pre_pre_pdf_url in pre_pre_pdf_urls:\n",
    "    response = requests.get(pre_pre_pdf_url, verify=False)\n",
    "    content = BeautifulSoup(response.text, 'lxml')\n",
    "    all_urls = content.find_all('a')\n",
    "\n",
    "\n",
    "    count = 0\n",
    "    for url in all_urls:\n",
    "        try:\n",
    "            href = url['href']\n",
    "            # if 'https://vjol.info.vn/index.php/khcn/issue/view/' in href: # Co truong hop href bi lap, co truong hop thi khong\n",
    "            #     pre_pdf_urls.append(href)\n",
    "            if pre_pre_pdf_url[-1] == 'e':\n",
    "                keychain = pre_pre_pdf_url.replace('archive', 'view')\n",
    "            else:\n",
    "                keychain = pre_pre_pdf_url.replace(r'archive/\\d+', 'view')\n",
    "            \n",
    "            if keychain in href: # Co truong hop href bi lap, co truong hop thi khong\n",
    "                pre_pdf_urls.append(href)\n",
    "                \n",
    "        except Exception as e:\n",
    "            print(\"Error: \", e)\n",
    "            \n",
    "print(pre_pdf_urls)\n",
    "\n",
    "count = 0\n",
    "for pre_pdf_url in pre_pdf_urls:\n",
    "    response = requests.get(pre_pdf_url, verify=False)\n",
    "    content = BeautifulSoup(response.text, 'lxml')\n",
    "    all_urls = content.find_all('a')\n",
    "\n",
    "    for url in all_urls:\n",
    "        try:\n",
    "            keychain = pre_pdf_url.replace('issue', 'article')\n",
    "            keychain = re.sub(r'/\\d+$', '', keychain)\n",
    "            print('***', keychain)\n",
    "            \n",
    "            if re.match(re.escape(keychain) + r'/\\d+/\\d+$', url['href']):\n",
    "                \n",
    "                download_url = url['href'].replace('view', 'download')\n",
    "                print('*****', download_url)\n",
    "                pdf_response = requests.get(download_url, verify=False)\n",
    "                print(url['href'])\n",
    "                \n",
    "                count += 1\n",
    "                file_name = \"input\" + str(count) + '.pdf'\n",
    "                \n",
    "                with open('./pdf/' + file_name, 'wb') as f:\n",
    "                    f.write(pdf_response.content)\n",
    "        except Exception as e:\n",
    "            print(\"Error: \", e)"
   ]
  },
  {
   "cell_type": "code",
   "execution_count": null,
   "metadata": {},
   "outputs": [],
   "source": []
  }
 ],
 "metadata": {
  "kernelspec": {
   "display_name": "env",
   "language": "python",
   "name": "python3"
  },
  "language_info": {
   "codemirror_mode": {
    "name": "ipython",
    "version": 3
   },
   "file_extension": ".py",
   "mimetype": "text/x-python",
   "name": "python",
   "nbconvert_exporter": "python",
   "pygments_lexer": "ipython3",
   "version": "3.13.2"
  }
 },
 "nbformat": 4,
 "nbformat_minor": 2
}
