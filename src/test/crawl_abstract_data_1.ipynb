{
 "cells": [
  {
   "cell_type": "code",
   "execution_count": null,
   "metadata": {},
   "outputs": [],
   "source": [
    "import requests\n",
    "from bs4 import BeautifulSoup"
   ]
  },
  {
   "cell_type": "code",
   "execution_count": null,
   "metadata": {},
   "outputs": [],
   "source": [
    "keywords = ['khcn', 'dh-NTT']\n",
    "base_urls = []\n",
    "for keyword in keywords:\n",
    "    url = 'https://vjol.info.vn/index.php/' + keyword + '/issue/archiv'\n",
    "    base_urls.append(url)\n",
    "    \n",
    "pre_pre_pdf_urls = []\n",
    "    \n",
    "for base_url in base_urls:\n",
    "    pre_pre_pdf_urls.append(base_url) # Them trang dau tien vao list\n",
    "\n",
    "    count = 2\n",
    "    url = base_url + str(count)\n",
    "    response = requests.get(url, verify=False)\n",
    "    content = BeautifulSoup(response.text, 'lxml')\n",
    "\n",
    "    while 'Kế tiếp' in content.text:\n",
    "        pre_pre_pdf_urls.append(url)\n",
    "        count += 1\n",
    "        url = base_url + str(count)\n",
    "        response = requests.get(url, verify=False)\n",
    "        content = BeautifulSoup(response.text, 'lxml')\n",
    "        \n",
    "    pre_pre_pdf_urls.append(url)  # Them trang cuoi cung vao list\n"
   ]
  }
 ],
 "metadata": {
  "kernelspec": {
   "display_name": "env",
   "language": "python",
   "name": "python3"
  },
  "language_info": {
   "codemirror_mode": {
    "name": "ipython",
    "version": 3
   },
   "file_extension": ".py",
   "mimetype": "text/x-python",
   "name": "python",
   "nbconvert_exporter": "python",
   "pygments_lexer": "ipython3",
   "version": "3.13.2"
  }
 },
 "nbformat": 4,
 "nbformat_minor": 2
}
